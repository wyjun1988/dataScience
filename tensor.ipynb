{
  "nbformat": 4,
  "nbformat_minor": 0,
  "metadata": {
    "colab": {
      "name": "tensor.ipynb",
      "provenance": [],
      "authorship_tag": "ABX9TyOrrnvCeEO4aLM+EJcXA9UE",
      "include_colab_link": true
    },
    "kernelspec": {
      "name": "python3",
      "display_name": "Python 3"
    },
    "language_info": {
      "name": "python"
    }
  },
  "cells": [
    {
      "cell_type": "markdown",
      "metadata": {
        "id": "view-in-github",
        "colab_type": "text"
      },
      "source": [
        "<a href=\"https://colab.research.google.com/github/wyjun1988/dataScience/blob/main/tensor.ipynb\" target=\"_parent\"><img src=\"https://colab.research.google.com/assets/colab-badge.svg\" alt=\"Open In Colab\"/></a>"
      ]
    },
    {
      "cell_type": "code",
      "execution_count": 1,
      "metadata": {
        "id": "XvWOe8Pwjkm0"
      },
      "outputs": [],
      "source": [
        "import torch\n",
        "import numpy as np"
      ]
    },
    {
      "cell_type": "markdown",
      "source": [
        "# Tensor\n",
        "https://tutorials.pytorch.kr/beginner/basics/tensorqs_tutorial.html\n",
        "위 사이트의 내용을 요약 발췌\n",
        "\\\n",
        "내용 정리:\\\n",
        "https://lofty-litter-31d.notion.site/Tensor-896366566ba64e07a2b6cc1685fc8c02\n",
        "\n",
        "## Tensor initialization"
      ],
      "metadata": {
        "id": "OyivQsi1jlWS"
      }
    },
    {
      "cell_type": "code",
      "source": [
        "# from data\n",
        "data = [[1,2],[3,4]]\n",
        "x_data = torch.tensor(data)"
      ],
      "metadata": {
        "id": "fgf9pRkbjxwK"
      },
      "execution_count": 2,
      "outputs": []
    },
    {
      "cell_type": "code",
      "source": [
        "# from numpy\n",
        "np_array=np.array(data)\n",
        "x_np = torch.from_numpy(np_array)"
      ],
      "metadata": {
        "id": "SW__BfbPkJq-"
      },
      "execution_count": 7,
      "outputs": []
    },
    {
      "cell_type": "code",
      "source": [
        "# from tensor\n",
        "x_ones=torch.ones_like(x_data)\n",
        "x_rand=torch.rand_like(x_data, dtype=torch.float)\n"
      ],
      "metadata": {
        "id": "PNY8-OPakYB_"
      },
      "execution_count": 8,
      "outputs": []
    },
    {
      "cell_type": "markdown",
      "source": [
        "## prebuilt initalization"
      ],
      "metadata": {
        "id": "fuanekHqkvPD"
      }
    },
    {
      "cell_type": "code",
      "source": [
        "shape = (2,3)\n",
        "rand_tensor = torch.rand(shape)\n",
        "ones_tensor = torch.ones(shape)\n",
        "zeros_tensor = torch.zeros(shape)"
      ],
      "metadata": {
        "id": "ntx2NekJlZCP"
      },
      "execution_count": 9,
      "outputs": []
    },
    {
      "cell_type": "markdown",
      "source": [
        "## GPU 사용"
      ],
      "metadata": {
        "id": "AUtJVuRNl9bZ"
      }
    },
    {
      "cell_type": "code",
      "source": [
        "# GPU가 존재하면 텐서를 이동합니다\n",
        "if torch.cuda.is_available():\n",
        "    tensor = tensor.to(\"cuda\")"
      ],
      "metadata": {
        "id": "vNWMRQDwmA28"
      },
      "execution_count": null,
      "outputs": []
    },
    {
      "cell_type": "markdown",
      "source": [
        "## Tensor 연산\n",
        "### indexing sliceing"
      ],
      "metadata": {
        "id": "QVsRJt1emaX6"
      }
    },
    {
      "cell_type": "code",
      "source": [
        "tensor = torch.ones(4,4)\n",
        "print(f\"First row: {tensor[0]}\")\n",
        "print(f\"First column: {tensor[:,0]}\")\n",
        "print(f\"last column: {tensor[...,-1]}\")\n",
        "# set last column 0\n",
        "tensor[:,-1]=0\n",
        "print(tensor)"
      ],
      "metadata": {
        "colab": {
          "base_uri": "https://localhost:8080/"
        },
        "id": "oNfXwNQsnksw",
        "outputId": "960ab004-fdb6-4051-c876-2345602c8f42"
      },
      "execution_count": 11,
      "outputs": [
        {
          "output_type": "stream",
          "name": "stdout",
          "text": [
            "First row: tensor([1., 1., 1., 1.])\n",
            "First column: tensor([1., 1., 1., 1.])\n",
            "last column: tensor([1., 1., 1., 1.])\n",
            "tensor([[1., 1., 1., 0.],\n",
            "        [1., 1., 1., 0.],\n",
            "        [1., 1., 1., 0.],\n",
            "        [1., 1., 1., 0.]])\n"
          ]
        }
      ]
    },
    {
      "cell_type": "markdown",
      "source": [
        "### concatenate"
      ],
      "metadata": {
        "id": "SgLDc1a9opbF"
      }
    },
    {
      "cell_type": "code",
      "source": [
        "# dim: the dimension over which the tensors are concatenated\n",
        "t1 = torch.cat([tensor, tensor, tensor], dim=1)\n",
        "print(t1)\n",
        "t2 = torch.cat([tensor, tensor, tensor], dim=0) \n",
        "print(t2)"
      ],
      "metadata": {
        "colab": {
          "base_uri": "https://localhost:8080/"
        },
        "id": "N8x61apPouhw",
        "outputId": "9262c1e7-4dd2-40ff-fec9-4447f8a302b1"
      },
      "execution_count": 13,
      "outputs": [
        {
          "output_type": "stream",
          "name": "stdout",
          "text": [
            "tensor([[1., 1., 1., 0., 1., 1., 1., 0., 1., 1., 1., 0.],\n",
            "        [1., 1., 1., 0., 1., 1., 1., 0., 1., 1., 1., 0.],\n",
            "        [1., 1., 1., 0., 1., 1., 1., 0., 1., 1., 1., 0.],\n",
            "        [1., 1., 1., 0., 1., 1., 1., 0., 1., 1., 1., 0.]])\n",
            "tensor([[1., 1., 1., 0.],\n",
            "        [1., 1., 1., 0.],\n",
            "        [1., 1., 1., 0.],\n",
            "        [1., 1., 1., 0.],\n",
            "        [1., 1., 1., 0.],\n",
            "        [1., 1., 1., 0.],\n",
            "        [1., 1., 1., 0.],\n",
            "        [1., 1., 1., 0.],\n",
            "        [1., 1., 1., 0.],\n",
            "        [1., 1., 1., 0.],\n",
            "        [1., 1., 1., 0.],\n",
            "        [1., 1., 1., 0.]])\n"
          ]
        }
      ]
    },
    {
      "cell_type": "markdown",
      "source": [
        "## 산술연산"
      ],
      "metadata": {
        "id": "22TETAeGprPw"
      }
    },
    {
      "cell_type": "code",
      "source": [
        "# multiplication\n",
        "y1 = tensor @ tensor.T # T: transpose\n",
        "y2 = tensor.matmul(tensor.T)\n",
        "y3=torch.rand_like(tensor)\n",
        "torch.matmul(tensor, tensor.T, out=y3)\n",
        "\n",
        "#element-wise product\n",
        "z1 = tensor * tensor\n",
        "z2 = tensor.mul(tensor)\n",
        "z3=torch.rand_like(tensor)\n",
        "torch.mul(tensor, tensor, out=z3)\n",
        "\n",
        "# sum\n",
        "agg = tensor.sum()\n",
        "print(agg)\n",
        "agg_item = agg.item() # get python value\n",
        "print(agg_item, type(agg_item))\n"
      ],
      "metadata": {
        "colab": {
          "base_uri": "https://localhost:8080/"
        },
        "id": "6oMGfu-YptOi",
        "outputId": "bf10468d-4fb8-4def-ad8f-98c04ea34a7c"
      },
      "execution_count": 14,
      "outputs": [
        {
          "output_type": "stream",
          "name": "stdout",
          "text": [
            "tensor(12.)\n",
            "12.0 <class 'float'>\n"
          ]
        }
      ]
    },
    {
      "cell_type": "markdown",
      "source": [
        "## in-place 연산\n",
        "연산 결과를 피연산자에 저장하는 연산. _접미사를 자는다. 예를들어 x.copy_(y)는 x를 변경한다."
      ],
      "metadata": {
        "id": "LkL3VQISr7dU"
      }
    },
    {
      "cell_type": "code",
      "source": [
        "print(f\"{tensor}\\n\")\n",
        "tensor.add_(5)\n",
        "print(tensor)"
      ],
      "metadata": {
        "colab": {
          "base_uri": "https://localhost:8080/"
        },
        "id": "Ga_hzbLRsMlY",
        "outputId": "597941eb-f1e4-443a-a2d8-72ae2389eb94"
      },
      "execution_count": 18,
      "outputs": [
        {
          "output_type": "stream",
          "name": "stdout",
          "text": [
            "tensor([[1., 1., 1., 0.],\n",
            "        [1., 1., 1., 0.],\n",
            "        [1., 1., 1., 0.],\n",
            "        [1., 1., 1., 0.]])\n",
            "\n",
            "tensor([[6., 6., 6., 5.],\n",
            "        [6., 6., 6., 5.],\n",
            "        [6., 6., 6., 5.],\n",
            "        [6., 6., 6., 5.]])\n"
          ]
        }
      ]
    },
    {
      "cell_type": "markdown",
      "source": [
        "## Split"
      ],
      "metadata": {
        "id": "TlT4PnMD1Qrg"
      }
    },
    {
      "cell_type": "code",
      "source": [
        "x = torch.arange(8)\n",
        "print(x)\n",
        "sp_x = torch.tensor_split(x, 3)\n",
        "print(sp_x)\n",
        "x = torch.arange(14).reshape(2, 7)\n",
        "sp_x=torch.tensor_split(x, (1, 6), dim=1)\n",
        "print(sp_x)"
      ],
      "metadata": {
        "colab": {
          "base_uri": "https://localhost:8080/"
        },
        "id": "dMAP8gdS1Sl7",
        "outputId": "85e8293b-2400-41f0-87c2-56ebf0eb2f08"
      },
      "execution_count": 21,
      "outputs": [
        {
          "output_type": "stream",
          "name": "stdout",
          "text": [
            "tensor([0, 1, 2, 3, 4, 5, 6, 7])\n",
            "(tensor([0, 1, 2]), tensor([3, 4, 5]), tensor([6, 7]))\n",
            "(tensor([[0],\n",
            "        [7]]), tensor([[ 1,  2,  3,  4,  5],\n",
            "        [ 8,  9, 10, 11, 12]]), tensor([[ 6],\n",
            "        [13]]))\n"
          ]
        }
      ]
    },
    {
      "cell_type": "code",
      "source": [
        ""
      ],
      "metadata": {
        "id": "IUDcV6991URT"
      },
      "execution_count": null,
      "outputs": []
    }
  ]
}