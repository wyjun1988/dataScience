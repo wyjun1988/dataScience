{
  "nbformat": 4,
  "nbformat_minor": 0,
  "metadata": {
    "colab": {
      "name": "python_basic.ipynb",
      "provenance": [],
      "collapsed_sections": [],
      "authorship_tag": "ABX9TyPU8spRbxtKhcs26IfnLU4D",
      "include_colab_link": true
    },
    "kernelspec": {
      "name": "python3",
      "display_name": "Python 3"
    },
    "language_info": {
      "name": "python"
    }
  },
  "cells": [
    {
      "cell_type": "markdown",
      "metadata": {
        "id": "view-in-github",
        "colab_type": "text"
      },
      "source": [
        "<a href=\"https://colab.research.google.com/github/wyjun1988/dataScience/blob/main/python_basic.ipynb\" target=\"_parent\"><img src=\"https://colab.research.google.com/assets/colab-badge.svg\" alt=\"Open In Colab\"/></a>"
      ]
    },
    {
      "cell_type": "markdown",
      "source": [
        "# 부동소수점, 실수 자료형\\\n",
        "링크: https://lofty-litter-31d.notion.site/9e4d791e354f49ab962b03e08be827b7"
      ],
      "metadata": {
        "id": "GJj93CJYJc3N"
      }
    },
    {
      "cell_type": "code",
      "execution_count": null,
      "metadata": {
        "colab": {
          "base_uri": "https://localhost:8080/"
        },
        "id": "1vK9hYwoIGt2",
        "outputId": "c9e25906-8946-407c-de61-6f1bf8859508"
      },
      "outputs": [
        {
          "output_type": "execute_result",
          "data": {
            "text/plain": [
              "float"
            ]
          },
          "metadata": {},
          "execution_count": 1
        }
      ],
      "source": [
        "type(10) # int\n",
        "type(10.0) # float"
      ]
    },
    {
      "cell_type": "code",
      "source": [
        "123e2 # 123.0 x 100 = 12300.0"
      ],
      "metadata": {
        "colab": {
          "base_uri": "https://localhost:8080/"
        },
        "id": "qw-ID-NoIkcB",
        "outputId": "79cf346b-8c65-4f0f-fa95-de065707b421"
      },
      "execution_count": null,
      "outputs": [
        {
          "output_type": "execute_result",
          "data": {
            "text/plain": [
              "12300.0"
            ]
          },
          "metadata": {},
          "execution_count": 2
        }
      ]
    },
    {
      "cell_type": "code",
      "source": [
        "bin(3) # 0b11"
      ],
      "metadata": {
        "colab": {
          "base_uri": "https://localhost:8080/",
          "height": 35
        },
        "id": "LdICqcMjImda",
        "outputId": "382ab568-b40d-4c5b-8ea1-93eae1adc00b"
      },
      "execution_count": null,
      "outputs": [
        {
          "output_type": "execute_result",
          "data": {
            "text/plain": [
              "'0b11'"
            ],
            "application/vnd.google.colaboratory.intrinsic+json": {
              "type": "string"
            }
          },
          "metadata": {},
          "execution_count": 3
        }
      ]
    },
    {
      "cell_type": "code",
      "source": [
        "#precision 55\n",
        "print(0.1)"
      ],
      "metadata": {
        "colab": {
          "base_uri": "https://localhost:8080/"
        },
        "id": "0WWaLB12Ipdz",
        "outputId": "79b6a01e-87c0-4a9f-cb0a-8b05fc652ba6"
      },
      "execution_count": null,
      "outputs": [
        {
          "output_type": "stream",
          "name": "stdout",
          "text": [
            "0.1\n"
          ]
        }
      ]
    },
    {
      "cell_type": "markdown",
      "source": [
        "# 문자열\\\n",
        "링크: https://lofty-litter-31d.notion.site/ef0b388a5b6c4a6ba88e7687b8bd59bb"
      ],
      "metadata": {
        "id": "cPb9iH_bJk-6"
      }
    },
    {
      "cell_type": "code",
      "source": [
        "n=10\n",
        "print(\"별표를 \" + str(n) + \"번 출력합니다.\")\n",
        "print(\"*\" * n)"
      ],
      "metadata": {
        "colab": {
          "base_uri": "https://localhost:8080/"
        },
        "id": "pTx1QTnNKY2e",
        "outputId": "2dbf2243-14ba-4ca4-97e8-ec8fe49d3885"
      },
      "execution_count": null,
      "outputs": [
        {
          "output_type": "stream",
          "name": "stdout",
          "text": [
            "별표를 10번 출력합니다.\n",
            "**********\n"
          ]
        }
      ]
    },
    {
      "cell_type": "code",
      "source": [
        "\"2020.02.04\".replace('.','-')"
      ],
      "metadata": {
        "colab": {
          "base_uri": "https://localhost:8080/",
          "height": 35
        },
        "id": "iLFnqf1NLkKg",
        "outputId": "913451e9-0239-46ae-87b7-6e5a472175ad"
      },
      "execution_count": null,
      "outputs": [
        {
          "output_type": "execute_result",
          "data": {
            "text/plain": [
              "'2020-02-04'"
            ],
            "application/vnd.google.colaboratory.intrinsic+json": {
              "type": "string"
            }
          },
          "metadata": {},
          "execution_count": 7
        }
      ]
    },
    {
      "cell_type": "code",
      "source": [
        "\"my name is %s.\" % \"wooyeoul\""
      ],
      "metadata": {
        "colab": {
          "base_uri": "https://localhost:8080/",
          "height": 35
        },
        "id": "FmxZ9fyWLuNJ",
        "outputId": "d379beed-460a-4360-c0d6-df82e12b9945"
      },
      "execution_count": null,
      "outputs": [
        {
          "output_type": "execute_result",
          "data": {
            "text/plain": [
              "'my name is wooyeoul.'"
            ],
            "application/vnd.google.colaboratory.intrinsic+json": {
              "type": "string"
            }
          },
          "metadata": {},
          "execution_count": 8
        }
      ]
    },
    {
      "cell_type": "code",
      "source": [
        "\"원주율의 값은 %f입니다.\" % 3.141592"
      ],
      "metadata": {
        "colab": {
          "base_uri": "https://localhost:8080/",
          "height": 35
        },
        "id": "NXC4lSyPOTJx",
        "outputId": "c8508312-9599-4992-91b1-557146ad7f87"
      },
      "execution_count": null,
      "outputs": [
        {
          "output_type": "execute_result",
          "data": {
            "text/plain": [
              "'원주율의 값은 3.141592입니다.'"
            ],
            "application/vnd.google.colaboratory.intrinsic+json": {
              "type": "string"
            }
          },
          "metadata": {},
          "execution_count": 9
        }
      ]
    },
    {
      "cell_type": "code",
      "source": [
        "\"%d 곱하기 %d은 %d이다.\" % (2, 3, 6)"
      ],
      "metadata": {
        "colab": {
          "base_uri": "https://localhost:8080/",
          "height": 35
        },
        "id": "f4fGUCP8Oen_",
        "outputId": "4f220c68-8d66-44fc-e3c5-e60225fea32b"
      },
      "execution_count": null,
      "outputs": [
        {
          "output_type": "execute_result",
          "data": {
            "text/plain": [
              "'2 곱하기 3은 6이다.'"
            ],
            "application/vnd.google.colaboratory.intrinsic+json": {
              "type": "string"
            }
          },
          "metadata": {},
          "execution_count": 10
        }
      ]
    },
    {
      "cell_type": "code",
      "source": [
        "\"[%20d]\" % 123"
      ],
      "metadata": {
        "colab": {
          "base_uri": "https://localhost:8080/",
          "height": 35
        },
        "id": "BWZA6dnrO5mY",
        "outputId": "80578cd6-8be8-4cf0-90f6-a85be281a2c0"
      },
      "execution_count": null,
      "outputs": [
        {
          "output_type": "execute_result",
          "data": {
            "text/plain": [
              "'[                 123]'"
            ],
            "application/vnd.google.colaboratory.intrinsic+json": {
              "type": "string"
            }
          },
          "metadata": {},
          "execution_count": 11
        }
      ]
    },
    {
      "cell_type": "code",
      "source": [
        "x = 1 / 3.0 \n",
        "\"[%-20.6f]\" % x"
      ],
      "metadata": {
        "colab": {
          "base_uri": "https://localhost:8080/",
          "height": 35
        },
        "id": "GNlhg77LO9ji",
        "outputId": "91a1d680-266e-41a0-f229-461d64095a84"
      },
      "execution_count": null,
      "outputs": [
        {
          "output_type": "execute_result",
          "data": {
            "text/plain": [
              "'[0.333333            ]'"
            ],
            "application/vnd.google.colaboratory.intrinsic+json": {
              "type": "string"
            }
          },
          "metadata": {},
          "execution_count": 13
        }
      ]
    },
    {
      "cell_type": "code",
      "source": [
        "\"내 이름은 {}입니다\".format(\"우열\")"
      ],
      "metadata": {
        "colab": {
          "base_uri": "https://localhost:8080/",
          "height": 35
        },
        "id": "pGmwlKDXO_64",
        "outputId": "c0c1a87c-1dfe-4a6d-de93-7ab339b61592"
      },
      "execution_count": null,
      "outputs": [
        {
          "output_type": "execute_result",
          "data": {
            "text/plain": [
              "'내 이름은 우열입니다'"
            ],
            "application/vnd.google.colaboratory.intrinsic+json": {
              "type": "string"
            }
          },
          "metadata": {},
          "execution_count": 15
        }
      ]
    },
    {
      "cell_type": "code",
      "source": [
        "\"{2}의 {0}점수는 {1}입니다\".format(\"수학\", \"59\",\"제희\")"
      ],
      "metadata": {
        "colab": {
          "base_uri": "https://localhost:8080/",
          "height": 35
        },
        "id": "VeZKYPhTP9-2",
        "outputId": "73857df8-95c6-408d-d20a-346494e6f0d3"
      },
      "execution_count": null,
      "outputs": [
        {
          "output_type": "execute_result",
          "data": {
            "text/plain": [
              "'제희의 수학점수는 59입니다'"
            ],
            "application/vnd.google.colaboratory.intrinsic+json": {
              "type": "string"
            }
          },
          "metadata": {},
          "execution_count": 16
        }
      ]
    },
    {
      "cell_type": "code",
      "source": [
        "\"{}점수: {}점, {}점수: {}점\".format(\"영어\", 100, \"수학\", 90)"
      ],
      "metadata": {
        "colab": {
          "base_uri": "https://localhost:8080/",
          "height": 35
        },
        "id": "Ja9gQ7IhQQdJ",
        "outputId": "59936a93-727d-4898-e90d-0adaee332628"
      },
      "execution_count": null,
      "outputs": [
        {
          "output_type": "execute_result",
          "data": {
            "text/plain": [
              "'영어점수: 100점, 수학점수: 90점'"
            ],
            "application/vnd.google.colaboratory.intrinsic+json": {
              "type": "string"
            }
          },
          "metadata": {},
          "execution_count": 17
        }
      ]
    },
    {
      "cell_type": "code",
      "source": [
        "\"[ㅇㅇ{:>10}]\".format(10)"
      ],
      "metadata": {
        "colab": {
          "base_uri": "https://localhost:8080/",
          "height": 35
        },
        "id": "WLtTIFAMQVYQ",
        "outputId": "6ceb9910-f177-4317-de51-ae821e6ffc42"
      },
      "execution_count": null,
      "outputs": [
        {
          "output_type": "execute_result",
          "data": {
            "text/plain": [
              "'[ㅇㅇ        10]'"
            ],
            "application/vnd.google.colaboratory.intrinsic+json": {
              "type": "string"
            }
          },
          "metadata": {},
          "execution_count": 18
        }
      ]
    },
    {
      "cell_type": "code",
      "source": [
        "\"[앞{:^10}뒤]\".format(\"중간\")"
      ],
      "metadata": {
        "colab": {
          "base_uri": "https://localhost:8080/",
          "height": 35
        },
        "id": "hALNxJo_R0vG",
        "outputId": "b5c934b3-ea9b-4afa-deab-6a4007f88293"
      },
      "execution_count": null,
      "outputs": [
        {
          "output_type": "execute_result",
          "data": {
            "text/plain": [
              "'[앞    중간    뒤]'"
            ],
            "application/vnd.google.colaboratory.intrinsic+json": {
              "type": "string"
            }
          },
          "metadata": {},
          "execution_count": 19
        }
      ]
    },
    {
      "cell_type": "code",
      "source": [
        "\"[앞{:기^10}뒤]\".format(\"중간\")"
      ],
      "metadata": {
        "colab": {
          "base_uri": "https://localhost:8080/",
          "height": 35
        },
        "id": "uVEy0FRLR_Yu",
        "outputId": "1886d3ac-4e8c-46e4-8a0a-974d76c07663"
      },
      "execution_count": null,
      "outputs": [
        {
          "output_type": "execute_result",
          "data": {
            "text/plain": [
              "'[앞기기기기중간기기기기뒤]'"
            ],
            "application/vnd.google.colaboratory.intrinsic+json": {
              "type": "string"
            }
          },
          "metadata": {},
          "execution_count": 22
        }
      ]
    },
    {
      "cell_type": "code",
      "source": [
        "name=\"우열\"\n",
        "age = 34\n",
        "print(f\"{name}은 {age}살이다\")"
      ],
      "metadata": {
        "colab": {
          "base_uri": "https://localhost:8080/"
        },
        "id": "_0Y_S469SVeN",
        "outputId": "31fa893c-9c54-446a-e9b5-14467abb79bb"
      },
      "execution_count": null,
      "outputs": [
        {
          "output_type": "stream",
          "name": "stdout",
          "text": [
            "우열은 34살이다\n"
          ]
        }
      ]
    },
    {
      "cell_type": "code",
      "source": [
        "number = 123456\n",
        "f\"앞{number:-^10}뒤\""
      ],
      "metadata": {
        "colab": {
          "base_uri": "https://localhost:8080/",
          "height": 35
        },
        "id": "7QswjsP8S4_N",
        "outputId": "fe5a8eef-bd58-41bb-e09b-b52c891512d3"
      },
      "execution_count": null,
      "outputs": [
        {
          "output_type": "execute_result",
          "data": {
            "text/plain": [
              "'앞--123456--뒤'"
            ],
            "application/vnd.google.colaboratory.intrinsic+json": {
              "type": "string"
            }
          },
          "metadata": {},
          "execution_count": 24
        }
      ]
    },
    {
      "cell_type": "markdown",
      "source": [
        "# function"
      ],
      "metadata": {
        "id": "c2c459qCEu_v"
      }
    },
    {
      "cell_type": "code",
      "source": [
        "def twotimes(x):\n",
        "  y=2*x\n",
        "  return y\n",
        "\n",
        "twotimes(2)"
      ],
      "metadata": {
        "id": "HFtR8ej7TPBW",
        "colab": {
          "base_uri": "https://localhost:8080/"
        },
        "outputId": "7b03b28d-615a-447d-df2c-fef8cf9f495b"
      },
      "execution_count": null,
      "outputs": [
        {
          "output_type": "execute_result",
          "data": {
            "text/plain": [
              "4"
            ]
          },
          "metadata": {},
          "execution_count": 1
        }
      ]
    },
    {
      "cell_type": "code",
      "source": [
        "def add(x,y):\n",
        "  return x+y\n",
        "\n",
        "add(1,5)\n"
      ],
      "metadata": {
        "colab": {
          "base_uri": "https://localhost:8080/"
        },
        "id": "nW6FveTIFLPA",
        "outputId": "bbd30290-0707-4635-c90c-ad77d06546a4"
      },
      "execution_count": null,
      "outputs": [
        {
          "output_type": "execute_result",
          "data": {
            "text/plain": [
              "6"
            ]
          },
          "metadata": {},
          "execution_count": 2
        }
      ]
    },
    {
      "cell_type": "markdown",
      "source": [
        "## Lambda function"
      ],
      "metadata": {
        "id": "4e5J_2D0GFM2"
      }
    },
    {
      "cell_type": "code",
      "source": [
        "def f(x):\n",
        "  return 2*x\n",
        "\n",
        "\n",
        "g=lambda x : 2*x\n",
        "g(3)\n",
        "f((lambda x: 2+x)(5))"
      ],
      "metadata": {
        "colab": {
          "base_uri": "https://localhost:8080/"
        },
        "id": "JB7gexx8FPbU",
        "outputId": "ba5dcc6a-079c-4619-dcef-f2d607f90b5f"
      },
      "execution_count": null,
      "outputs": [
        {
          "output_type": "execute_result",
          "data": {
            "text/plain": [
              "14"
            ]
          },
          "metadata": {},
          "execution_count": 7
        }
      ]
    },
    {
      "cell_type": "markdown",
      "source": [
        "## 함수에서 전역변수 사용"
      ],
      "metadata": {
        "id": "UNSJm7OTMCOn"
      }
    },
    {
      "cell_type": "code",
      "source": [
        "z = 3\n",
        "\n",
        "def fx(x):\n",
        "  global z\n",
        "  z=99\n",
        "  return x+z\n",
        "\n",
        "print(z)\n",
        "fx(5)\n",
        "print(z)\n",
        "\n"
      ],
      "metadata": {
        "colab": {
          "base_uri": "https://localhost:8080/"
        },
        "id": "ahBwv7fmGQ0x",
        "outputId": "7d61bd7f-0910-4366-eab4-3a33ff10a8be"
      },
      "execution_count": null,
      "outputs": [
        {
          "output_type": "stream",
          "name": "stdout",
          "text": [
            "3\n",
            "99\n"
          ]
        }
      ]
    },
    {
      "cell_type": "code",
      "source": [
        "def getSequence(x):\n",
        "  sum = 0\n",
        "  for i in range(x):\n",
        "    for j in range (i+1):\n",
        "      sum = sum + j+1\n",
        "  return sum\n",
        "\n",
        "getSequence(3)"
      ],
      "metadata": {
        "colab": {
          "base_uri": "https://localhost:8080/"
        },
        "id": "f7qZRQ_VMO_N",
        "outputId": "8e4ae411-ef08-4d16-f346-5d0231e9e546"
      },
      "execution_count": null,
      "outputs": [
        {
          "output_type": "execute_result",
          "data": {
            "text/plain": [
              "10"
            ]
          },
          "metadata": {},
          "execution_count": 20
        }
      ]
    },
    {
      "cell_type": "markdown",
      "source": [
        "# List, Dictionary\n",
        "## List"
      ],
      "metadata": {
        "id": "u-_w-hM9axVV"
      }
    },
    {
      "cell_type": "code",
      "source": [
        "x = [88, 99, 'str']\n",
        "print(x[0])\n",
        "print(x[2])"
      ],
      "metadata": {
        "colab": {
          "base_uri": "https://localhost:8080/"
        },
        "id": "FNjoaLXOX8xe",
        "outputId": "9b1d62ae-3400-41cd-c6eb-131ddbdc3558"
      },
      "execution_count": null,
      "outputs": [
        {
          "output_type": "stream",
          "name": "stdout",
          "text": [
            "88\n",
            "str\n"
          ]
        }
      ]
    },
    {
      "cell_type": "markdown",
      "source": [
        "## Dictionary"
      ],
      "metadata": {
        "id": "YsjDgTdbbXz3"
      }
    },
    {
      "cell_type": "code",
      "source": [
        "b= {\"math\":88, 55:9}"
      ],
      "metadata": {
        "id": "dth5Cdu4a6QQ"
      },
      "execution_count": null,
      "outputs": []
    },
    {
      "cell_type": "code",
      "source": [
        "b[55]"
      ],
      "metadata": {
        "colab": {
          "base_uri": "https://localhost:8080/"
        },
        "id": "gyCqEEIBcwTN",
        "outputId": "b238da00-1e00-4992-f949-677fe7795e0e"
      },
      "execution_count": null,
      "outputs": [
        {
          "output_type": "execute_result",
          "data": {
            "text/plain": [
              "9"
            ]
          },
          "metadata": {},
          "execution_count": 24
        }
      ]
    },
    {
      "cell_type": "markdown",
      "source": [
        "## List in List"
      ],
      "metadata": {
        "id": "4ZCdx5hjekDP"
      }
    },
    {
      "cell_type": "code",
      "source": [
        "a = [[4,7],[2,5]]\n",
        "a[0][1]"
      ],
      "metadata": {
        "colab": {
          "base_uri": "https://localhost:8080/"
        },
        "id": "z7bQcbGUcx6S",
        "outputId": "ebf9fe04-acee-4b43-f54c-a159134660e0"
      },
      "execution_count": null,
      "outputs": [
        {
          "output_type": "execute_result",
          "data": {
            "text/plain": [
              "7"
            ]
          },
          "metadata": {},
          "execution_count": 26
        }
      ]
    },
    {
      "cell_type": "code",
      "source": [
        "b={\"A\":[1,2,3], \"B\":{\"c\":15}}"
      ],
      "metadata": {
        "id": "sSGh896WerLE"
      },
      "execution_count": null,
      "outputs": []
    },
    {
      "cell_type": "code",
      "source": [
        "b[\"B\"][\"c\"]"
      ],
      "metadata": {
        "colab": {
          "base_uri": "https://localhost:8080/"
        },
        "id": "jkn6YYjHf2t8",
        "outputId": "e2a67a7b-ccdd-4b19-884d-891574a66c95"
      },
      "execution_count": null,
      "outputs": [
        {
          "output_type": "execute_result",
          "data": {
            "text/plain": [
              "15"
            ]
          },
          "metadata": {},
          "execution_count": 29
        }
      ]
    },
    {
      "cell_type": "code",
      "source": [
        "len(b)"
      ],
      "metadata": {
        "colab": {
          "base_uri": "https://localhost:8080/"
        },
        "id": "G07gApQDgPBd",
        "outputId": "bb2a0a64-2167-44d8-edfc-ff93e54f7634"
      },
      "execution_count": null,
      "outputs": [
        {
          "output_type": "execute_result",
          "data": {
            "text/plain": [
              "2"
            ]
          },
          "metadata": {},
          "execution_count": 30
        }
      ]
    },
    {
      "cell_type": "code",
      "source": [
        "len(a)"
      ],
      "metadata": {
        "colab": {
          "base_uri": "https://localhost:8080/"
        },
        "id": "-nilm79mg2Qe",
        "outputId": "5c1b36c4-1862-4c62-ad10-929b0749e71b"
      },
      "execution_count": null,
      "outputs": [
        {
          "output_type": "execute_result",
          "data": {
            "text/plain": [
              "2"
            ]
          },
          "metadata": {},
          "execution_count": 31
        }
      ]
    },
    {
      "cell_type": "code",
      "source": [
        "b=list(range(10))"
      ],
      "metadata": {
        "id": "aCD9t7tJg5p2"
      },
      "execution_count": null,
      "outputs": []
    },
    {
      "cell_type": "code",
      "source": [
        "print(b)"
      ],
      "metadata": {
        "colab": {
          "base_uri": "https://localhost:8080/"
        },
        "id": "z96bUEwDidBl",
        "outputId": "8c241812-0131-4b4a-c540-58d2d8d40802"
      },
      "execution_count": null,
      "outputs": [
        {
          "output_type": "stream",
          "name": "stdout",
          "text": [
            "[0, 1, 2, 3, 4, 5, 6, 7, 8, 9]\n"
          ]
        }
      ]
    },
    {
      "cell_type": "code",
      "source": [
        "c=range(10)"
      ],
      "metadata": {
        "id": "WLwjv2-Vid8_"
      },
      "execution_count": null,
      "outputs": []
    },
    {
      "cell_type": "code",
      "source": [
        "print(c)"
      ],
      "metadata": {
        "colab": {
          "base_uri": "https://localhost:8080/"
        },
        "id": "SoOR-AUsifoU",
        "outputId": "7c0a1f5c-27a8-4c4d-d1ef-163d53238e00"
      },
      "execution_count": null,
      "outputs": [
        {
          "output_type": "stream",
          "name": "stdout",
          "text": [
            "range(0, 10)\n"
          ]
        }
      ]
    },
    {
      "cell_type": "code",
      "source": [
        "c=list(range(2,10,3))\n",
        "print(c)"
      ],
      "metadata": {
        "colab": {
          "base_uri": "https://localhost:8080/"
        },
        "id": "hW3OG0Quigpf",
        "outputId": "e1fd88bf-dee1-4d82-e60d-4b76a8d7cee0"
      },
      "execution_count": null,
      "outputs": [
        {
          "output_type": "stream",
          "name": "stdout",
          "text": [
            "[2, 5, 8]\n"
          ]
        }
      ]
    },
    {
      "cell_type": "code",
      "source": [
        "c.append(4)"
      ],
      "metadata": {
        "id": "7Xl2h1ipiymN"
      },
      "execution_count": null,
      "outputs": []
    },
    {
      "cell_type": "code",
      "source": [
        "print(c)"
      ],
      "metadata": {
        "colab": {
          "base_uri": "https://localhost:8080/"
        },
        "id": "x-PwZJQunN1l",
        "outputId": "7719ebaf-9451-4ce5-ba12-326169de4830"
      },
      "execution_count": null,
      "outputs": [
        {
          "output_type": "stream",
          "name": "stdout",
          "text": [
            "[2, 5, 8, 4]\n"
          ]
        }
      ]
    },
    {
      "cell_type": "code",
      "source": [
        "del c[3]"
      ],
      "metadata": {
        "id": "Iz2ERr4WnPy6"
      },
      "execution_count": null,
      "outputs": []
    },
    {
      "cell_type": "code",
      "source": [
        "print(c)"
      ],
      "metadata": {
        "colab": {
          "base_uri": "https://localhost:8080/"
        },
        "id": "gz3mNdklnXMb",
        "outputId": "b968e54d-6713-4942-8cc6-794d8040eb9b"
      },
      "execution_count": null,
      "outputs": [
        {
          "output_type": "stream",
          "name": "stdout",
          "text": [
            "[2, 5, 8]\n"
          ]
        }
      ]
    },
    {
      "cell_type": "code",
      "source": [
        "g=list(range(20))"
      ],
      "metadata": {
        "id": "MpO840munX9K"
      },
      "execution_count": null,
      "outputs": []
    },
    {
      "cell_type": "code",
      "source": [
        "print(g[10:15])"
      ],
      "metadata": {
        "colab": {
          "base_uri": "https://localhost:8080/"
        },
        "id": "ZzDfUHusnnNJ",
        "outputId": "da247ab8-b402-4933-f4fe-ea3be07b5d1e"
      },
      "execution_count": null,
      "outputs": [
        {
          "output_type": "stream",
          "name": "stdout",
          "text": [
            "[10, 11, 12, 13, 14]\n"
          ]
        }
      ]
    },
    {
      "cell_type": "code",
      "source": [
        "print(g[-1])"
      ],
      "metadata": {
        "colab": {
          "base_uri": "https://localhost:8080/"
        },
        "id": "ovejPwRZnrRa",
        "outputId": "eaefdc89-21b6-49f4-fd87-2220409b274f"
      },
      "execution_count": null,
      "outputs": [
        {
          "output_type": "stream",
          "name": "stdout",
          "text": [
            "19\n"
          ]
        }
      ]
    },
    {
      "cell_type": "code",
      "source": [
        "print(g[-5:-2])"
      ],
      "metadata": {
        "colab": {
          "base_uri": "https://localhost:8080/"
        },
        "id": "_EXJkbiwn3Iu",
        "outputId": "afaa8bad-9301-4ea2-d0a8-c46a6fbb5827"
      },
      "execution_count": null,
      "outputs": [
        {
          "output_type": "stream",
          "name": "stdout",
          "text": [
            "[15, 16, 17]\n"
          ]
        }
      ]
    },
    {
      "cell_type": "code",
      "source": [
        "for i, e in enumerate([\"a\", \"b\", \"c\"]):\n",
        "  print(f'i={i}, e={e}')"
      ],
      "metadata": {
        "colab": {
          "base_uri": "https://localhost:8080/"
        },
        "id": "QGLIT6jQn50e",
        "outputId": "3b8deb2d-344e-4d39-e35e-a34a2f39da71"
      },
      "execution_count": null,
      "outputs": [
        {
          "output_type": "stream",
          "name": "stdout",
          "text": [
            "i=0, e=a\n",
            "i=1, e=b\n",
            "i=2, e=c\n"
          ]
        }
      ]
    },
    {
      "cell_type": "code",
      "source": [
        "a1 = [90, 85, 95, 80, 90, 100, 85, 75, 85, 80]\n",
        "a2 = [95, 90, 90, 90, 95, 100, 90, 80, 95, 90]\n",
        "a12=list(zip(a1,a2))\n",
        "print(a12)"
      ],
      "metadata": {
        "colab": {
          "base_uri": "https://localhost:8080/"
        },
        "id": "NQ0Uoj_fqROq",
        "outputId": "d2c9a396-6e46-4ef8-d954-8817af7c08ed"
      },
      "execution_count": null,
      "outputs": [
        {
          "output_type": "stream",
          "name": "stdout",
          "text": [
            "[(90, 95), (85, 90), (95, 90), (80, 90), (90, 95), (100, 100), (85, 90), (75, 80), (85, 95), (80, 90)]\n"
          ]
        }
      ]
    },
    {
      "cell_type": "code",
      "source": [
        "a21=list(zip(*a12))\n",
        "print(a21)"
      ],
      "metadata": {
        "colab": {
          "base_uri": "https://localhost:8080/"
        },
        "id": "kp34e3f4sE2b",
        "outputId": "0e01167f-a9e2-44e3-ce19-3195131e4b98"
      },
      "execution_count": null,
      "outputs": [
        {
          "output_type": "stream",
          "name": "stdout",
          "text": [
            "[(90, 85, 95, 80, 90, 100, 85, 75, 85, 80), (95, 90, 90, 90, 95, 100, 90, 80, 95, 90)]\n"
          ]
        }
      ]
    },
    {
      "cell_type": "code",
      "source": [
        "for a1i, a2i in a12:\n",
        "  print(f'a1i: {a1i}, a2i: {a2i}')"
      ],
      "metadata": {
        "colab": {
          "base_uri": "https://localhost:8080/"
        },
        "id": "PzWTSKshsmxG",
        "outputId": "c1aa3579-6f6e-43da-d65c-a465627dcdc0"
      },
      "execution_count": null,
      "outputs": [
        {
          "output_type": "stream",
          "name": "stdout",
          "text": [
            "a1i: 90, a2i: 95\n",
            "a1i: 85, a2i: 90\n",
            "a1i: 95, a2i: 90\n",
            "a1i: 80, a2i: 90\n",
            "a1i: 90, a2i: 95\n",
            "a1i: 100, a2i: 100\n",
            "a1i: 85, a2i: 90\n",
            "a1i: 75, a2i: 80\n",
            "a1i: 85, a2i: 95\n",
            "a1i: 80, a2i: 90\n"
          ]
        }
      ]
    },
    {
      "cell_type": "markdown",
      "source": [
        "# 복수할당"
      ],
      "metadata": {
        "id": "UAKQjZRctcru"
      }
    },
    {
      "cell_type": "code",
      "source": [
        "h=[1,2,3]\n",
        "h1, h2, h3 = h\n",
        "print(f'h: {h1}, {h2}, {h3}')"
      ],
      "metadata": {
        "colab": {
          "base_uri": "https://localhost:8080/"
        },
        "id": "oqWmzxiTtFR6",
        "outputId": "7b105957-be28-4009-fc44-6a3646bb1f1d"
      },
      "execution_count": null,
      "outputs": [
        {
          "output_type": "stream",
          "name": "stdout",
          "text": [
            "h: 1, 2, 3\n"
          ]
        }
      ]
    },
    {
      "cell_type": "code",
      "source": [
        "x = [\n",
        "  [\"길동\", 90],\n",
        "  [\"철수\", 80],\n",
        "  [\"영수\", 70],\n",
        "  [\"방자\", 60],\n",
        "]"
      ],
      "metadata": {
        "id": "HZxnsLdbudwT"
      },
      "execution_count": null,
      "outputs": []
    },
    {
      "cell_type": "code",
      "source": [
        "z1, z2 = list(zip(*x))\n",
        "print(z1)"
      ],
      "metadata": {
        "colab": {
          "base_uri": "https://localhost:8080/"
        },
        "id": "lfYdMQw1vJD8",
        "outputId": "787abdb6-ac3d-4064-df16-762eede4faf0"
      },
      "execution_count": null,
      "outputs": [
        {
          "output_type": "stream",
          "name": "stdout",
          "text": [
            "('길동', '철수', '영수', '방자')\n"
          ]
        }
      ]
    },
    {
      "cell_type": "markdown",
      "source": [
        "# 연습문제 분산 구하는 코드"
      ],
      "metadata": {
        "id": "wFBVAipbvvxn"
      }
    },
    {
      "cell_type": "code",
      "source": [
        "def get_variance(x):\n",
        "  mean = sum(x)/len(x)\n",
        "  var = 0\n",
        "  for i in x:\n",
        "    var=var+(i-mean)*(i-mean)\n",
        "  return var / len(x)\n",
        "\n",
        "x=[6,5,4,7,3,5]\n",
        "var = get_variance(x)\n",
        "print(var)\n"
      ],
      "metadata": {
        "colab": {
          "base_uri": "https://localhost:8080/"
        },
        "id": "xtz8V9zfvU10",
        "outputId": "2eb015ba-b461-4579-c763-645bd38e19b1"
      },
      "execution_count": null,
      "outputs": [
        {
          "output_type": "stream",
          "name": "stdout",
          "text": [
            "1.6666666666666667\n"
          ]
        }
      ]
    },
    {
      "cell_type": "code",
      "source": [
        "import numpy as np\n",
        "np.var(x)"
      ],
      "metadata": {
        "colab": {
          "base_uri": "https://localhost:8080/"
        },
        "id": "UnCqdavrwzRk",
        "outputId": "eb27a351-c84b-4f9e-e117-6d65e7ec65c2"
      },
      "execution_count": null,
      "outputs": [
        {
          "output_type": "execute_result",
          "data": {
            "text/plain": [
              "1.6666666666666667"
            ]
          },
          "metadata": {},
          "execution_count": 56
        }
      ]
    },
    {
      "cell_type": "markdown",
      "source": [
        "# Weighted sum"
      ],
      "metadata": {
        "id": "M6ZRAkrMxyPG"
      }
    },
    {
      "cell_type": "code",
      "source": [
        "def get_weighted_sum(v,w):\n",
        "  people = list(zip(v, w))\n",
        "  print(people)\n",
        "  weighted_sum = 0\n",
        "  weight_sum = 0\n",
        "  for v1, v2 in people:\n",
        "    weighted_sum = weighted_sum + v1*v2\n",
        "    weight_sum = weight_sum+v2\n",
        "  return weighted_sum/weight_sum\n",
        "\n",
        "value = [4,3,2,3,4]\n",
        "weight = [3,3,1,2,2]\n",
        "\n",
        "z = get_weighted_sum(value, weight)\n",
        "print(z)\n",
        "\n"
      ],
      "metadata": {
        "colab": {
          "base_uri": "https://localhost:8080/"
        },
        "id": "WAPY3sx_xdzK",
        "outputId": "6e84bb57-8f65-43f2-a9c9-b9dae82af05c"
      },
      "execution_count": null,
      "outputs": [
        {
          "output_type": "stream",
          "name": "stdout",
          "text": [
            "[(4, 3), (3, 3), (2, 1), (3, 2), (4, 2)]\n",
            "3.3636363636363638\n"
          ]
        }
      ]
    },
    {
      "cell_type": "code",
      "source": [
        ""
      ],
      "metadata": {
        "id": "zYTQTdkk0Nbq"
      },
      "execution_count": null,
      "outputs": []
    }
  ]
}