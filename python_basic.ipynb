{
  "nbformat": 4,
  "nbformat_minor": 0,
  "metadata": {
    "colab": {
      "name": "python_basic.ipynb",
      "provenance": [],
      "collapsed_sections": [],
      "authorship_tag": "ABX9TyNgocOW2bXzbLNrBFDee5Qo",
      "include_colab_link": true
    },
    "kernelspec": {
      "name": "python3",
      "display_name": "Python 3"
    },
    "language_info": {
      "name": "python"
    }
  },
  "cells": [
    {
      "cell_type": "markdown",
      "metadata": {
        "id": "view-in-github",
        "colab_type": "text"
      },
      "source": [
        "<a href=\"https://colab.research.google.com/github/wyjun1988/dataScience/blob/main/python_basic.ipynb\" target=\"_parent\"><img src=\"https://colab.research.google.com/assets/colab-badge.svg\" alt=\"Open In Colab\"/></a>"
      ]
    },
    {
      "cell_type": "markdown",
      "source": [
        "# 부동소수점, 실수 자료형\\\n",
        "링크: https://lofty-litter-31d.notion.site/9e4d791e354f49ab962b03e08be827b7"
      ],
      "metadata": {
        "id": "GJj93CJYJc3N"
      }
    },
    {
      "cell_type": "code",
      "execution_count": null,
      "metadata": {
        "colab": {
          "base_uri": "https://localhost:8080/"
        },
        "id": "1vK9hYwoIGt2",
        "outputId": "c9e25906-8946-407c-de61-6f1bf8859508"
      },
      "outputs": [
        {
          "output_type": "execute_result",
          "data": {
            "text/plain": [
              "float"
            ]
          },
          "metadata": {},
          "execution_count": 1
        }
      ],
      "source": [
        "type(10) # int\n",
        "type(10.0) # float"
      ]
    },
    {
      "cell_type": "code",
      "source": [
        "123e2 # 123.0 x 100 = 12300.0"
      ],
      "metadata": {
        "colab": {
          "base_uri": "https://localhost:8080/"
        },
        "id": "qw-ID-NoIkcB",
        "outputId": "79cf346b-8c65-4f0f-fa95-de065707b421"
      },
      "execution_count": null,
      "outputs": [
        {
          "output_type": "execute_result",
          "data": {
            "text/plain": [
              "12300.0"
            ]
          },
          "metadata": {},
          "execution_count": 2
        }
      ]
    },
    {
      "cell_type": "code",
      "source": [
        "bin(3) # 0b11"
      ],
      "metadata": {
        "colab": {
          "base_uri": "https://localhost:8080/",
          "height": 35
        },
        "id": "LdICqcMjImda",
        "outputId": "382ab568-b40d-4c5b-8ea1-93eae1adc00b"
      },
      "execution_count": null,
      "outputs": [
        {
          "output_type": "execute_result",
          "data": {
            "text/plain": [
              "'0b11'"
            ],
            "application/vnd.google.colaboratory.intrinsic+json": {
              "type": "string"
            }
          },
          "metadata": {},
          "execution_count": 3
        }
      ]
    },
    {
      "cell_type": "code",
      "source": [
        "#precision 55\n",
        "print(0.1)"
      ],
      "metadata": {
        "colab": {
          "base_uri": "https://localhost:8080/"
        },
        "id": "0WWaLB12Ipdz",
        "outputId": "79b6a01e-87c0-4a9f-cb0a-8b05fc652ba6"
      },
      "execution_count": null,
      "outputs": [
        {
          "output_type": "stream",
          "name": "stdout",
          "text": [
            "0.1\n"
          ]
        }
      ]
    },
    {
      "cell_type": "markdown",
      "source": [
        "# 문자열\\\n",
        "링크: https://lofty-litter-31d.notion.site/ef0b388a5b6c4a6ba88e7687b8bd59bb"
      ],
      "metadata": {
        "id": "cPb9iH_bJk-6"
      }
    },
    {
      "cell_type": "code",
      "source": [
        "n=10\n",
        "print(\"별표를 \" + str(n) + \"번 출력합니다.\")\n",
        "print(\"*\" * n)"
      ],
      "metadata": {
        "colab": {
          "base_uri": "https://localhost:8080/"
        },
        "id": "pTx1QTnNKY2e",
        "outputId": "2dbf2243-14ba-4ca4-97e8-ec8fe49d3885"
      },
      "execution_count": null,
      "outputs": [
        {
          "output_type": "stream",
          "name": "stdout",
          "text": [
            "별표를 10번 출력합니다.\n",
            "**********\n"
          ]
        }
      ]
    },
    {
      "cell_type": "code",
      "source": [
        "\"2020.02.04\".replace('.','-')"
      ],
      "metadata": {
        "colab": {
          "base_uri": "https://localhost:8080/",
          "height": 35
        },
        "id": "iLFnqf1NLkKg",
        "outputId": "913451e9-0239-46ae-87b7-6e5a472175ad"
      },
      "execution_count": null,
      "outputs": [
        {
          "output_type": "execute_result",
          "data": {
            "text/plain": [
              "'2020-02-04'"
            ],
            "application/vnd.google.colaboratory.intrinsic+json": {
              "type": "string"
            }
          },
          "metadata": {},
          "execution_count": 7
        }
      ]
    },
    {
      "cell_type": "code",
      "source": [
        "\"my name is %s.\" % \"wooyeoul\""
      ],
      "metadata": {
        "colab": {
          "base_uri": "https://localhost:8080/",
          "height": 35
        },
        "id": "FmxZ9fyWLuNJ",
        "outputId": "d379beed-460a-4360-c0d6-df82e12b9945"
      },
      "execution_count": null,
      "outputs": [
        {
          "output_type": "execute_result",
          "data": {
            "text/plain": [
              "'my name is wooyeoul.'"
            ],
            "application/vnd.google.colaboratory.intrinsic+json": {
              "type": "string"
            }
          },
          "metadata": {},
          "execution_count": 8
        }
      ]
    },
    {
      "cell_type": "code",
      "source": [
        "\"원주율의 값은 %f입니다.\" % 3.141592"
      ],
      "metadata": {
        "colab": {
          "base_uri": "https://localhost:8080/",
          "height": 35
        },
        "id": "NXC4lSyPOTJx",
        "outputId": "c8508312-9599-4992-91b1-557146ad7f87"
      },
      "execution_count": null,
      "outputs": [
        {
          "output_type": "execute_result",
          "data": {
            "text/plain": [
              "'원주율의 값은 3.141592입니다.'"
            ],
            "application/vnd.google.colaboratory.intrinsic+json": {
              "type": "string"
            }
          },
          "metadata": {},
          "execution_count": 9
        }
      ]
    },
    {
      "cell_type": "code",
      "source": [
        "\"%d 곱하기 %d은 %d이다.\" % (2, 3, 6)"
      ],
      "metadata": {
        "colab": {
          "base_uri": "https://localhost:8080/",
          "height": 35
        },
        "id": "f4fGUCP8Oen_",
        "outputId": "4f220c68-8d66-44fc-e3c5-e60225fea32b"
      },
      "execution_count": null,
      "outputs": [
        {
          "output_type": "execute_result",
          "data": {
            "text/plain": [
              "'2 곱하기 3은 6이다.'"
            ],
            "application/vnd.google.colaboratory.intrinsic+json": {
              "type": "string"
            }
          },
          "metadata": {},
          "execution_count": 10
        }
      ]
    },
    {
      "cell_type": "code",
      "source": [
        "\"[%20d]\" % 123"
      ],
      "metadata": {
        "colab": {
          "base_uri": "https://localhost:8080/",
          "height": 35
        },
        "id": "BWZA6dnrO5mY",
        "outputId": "80578cd6-8be8-4cf0-90f6-a85be281a2c0"
      },
      "execution_count": null,
      "outputs": [
        {
          "output_type": "execute_result",
          "data": {
            "text/plain": [
              "'[                 123]'"
            ],
            "application/vnd.google.colaboratory.intrinsic+json": {
              "type": "string"
            }
          },
          "metadata": {},
          "execution_count": 11
        }
      ]
    },
    {
      "cell_type": "code",
      "source": [
        "x = 1 / 3.0 \n",
        "\"[%-20.6f]\" % x"
      ],
      "metadata": {
        "colab": {
          "base_uri": "https://localhost:8080/",
          "height": 35
        },
        "id": "GNlhg77LO9ji",
        "outputId": "91a1d680-266e-41a0-f229-461d64095a84"
      },
      "execution_count": null,
      "outputs": [
        {
          "output_type": "execute_result",
          "data": {
            "text/plain": [
              "'[0.333333            ]'"
            ],
            "application/vnd.google.colaboratory.intrinsic+json": {
              "type": "string"
            }
          },
          "metadata": {},
          "execution_count": 13
        }
      ]
    },
    {
      "cell_type": "code",
      "source": [
        "\"내 이름은 {}입니다\".format(\"우열\")"
      ],
      "metadata": {
        "colab": {
          "base_uri": "https://localhost:8080/",
          "height": 35
        },
        "id": "pGmwlKDXO_64",
        "outputId": "c0c1a87c-1dfe-4a6d-de93-7ab339b61592"
      },
      "execution_count": null,
      "outputs": [
        {
          "output_type": "execute_result",
          "data": {
            "text/plain": [
              "'내 이름은 우열입니다'"
            ],
            "application/vnd.google.colaboratory.intrinsic+json": {
              "type": "string"
            }
          },
          "metadata": {},
          "execution_count": 15
        }
      ]
    },
    {
      "cell_type": "code",
      "source": [
        "\"{2}의 {0}점수는 {1}입니다\".format(\"수학\", \"59\",\"제희\")"
      ],
      "metadata": {
        "colab": {
          "base_uri": "https://localhost:8080/",
          "height": 35
        },
        "id": "VeZKYPhTP9-2",
        "outputId": "73857df8-95c6-408d-d20a-346494e6f0d3"
      },
      "execution_count": null,
      "outputs": [
        {
          "output_type": "execute_result",
          "data": {
            "text/plain": [
              "'제희의 수학점수는 59입니다'"
            ],
            "application/vnd.google.colaboratory.intrinsic+json": {
              "type": "string"
            }
          },
          "metadata": {},
          "execution_count": 16
        }
      ]
    },
    {
      "cell_type": "code",
      "source": [
        "\"{}점수: {}점, {}점수: {}점\".format(\"영어\", 100, \"수학\", 90)"
      ],
      "metadata": {
        "colab": {
          "base_uri": "https://localhost:8080/",
          "height": 35
        },
        "id": "Ja9gQ7IhQQdJ",
        "outputId": "59936a93-727d-4898-e90d-0adaee332628"
      },
      "execution_count": null,
      "outputs": [
        {
          "output_type": "execute_result",
          "data": {
            "text/plain": [
              "'영어점수: 100점, 수학점수: 90점'"
            ],
            "application/vnd.google.colaboratory.intrinsic+json": {
              "type": "string"
            }
          },
          "metadata": {},
          "execution_count": 17
        }
      ]
    },
    {
      "cell_type": "code",
      "source": [
        "\"[ㅇㅇ{:>10}]\".format(10)"
      ],
      "metadata": {
        "colab": {
          "base_uri": "https://localhost:8080/",
          "height": 35
        },
        "id": "WLtTIFAMQVYQ",
        "outputId": "6ceb9910-f177-4317-de51-ae821e6ffc42"
      },
      "execution_count": null,
      "outputs": [
        {
          "output_type": "execute_result",
          "data": {
            "text/plain": [
              "'[ㅇㅇ        10]'"
            ],
            "application/vnd.google.colaboratory.intrinsic+json": {
              "type": "string"
            }
          },
          "metadata": {},
          "execution_count": 18
        }
      ]
    },
    {
      "cell_type": "code",
      "source": [
        "\"[앞{:^10}뒤]\".format(\"중간\")"
      ],
      "metadata": {
        "colab": {
          "base_uri": "https://localhost:8080/",
          "height": 35
        },
        "id": "hALNxJo_R0vG",
        "outputId": "b5c934b3-ea9b-4afa-deab-6a4007f88293"
      },
      "execution_count": null,
      "outputs": [
        {
          "output_type": "execute_result",
          "data": {
            "text/plain": [
              "'[앞    중간    뒤]'"
            ],
            "application/vnd.google.colaboratory.intrinsic+json": {
              "type": "string"
            }
          },
          "metadata": {},
          "execution_count": 19
        }
      ]
    },
    {
      "cell_type": "code",
      "source": [
        "\"[앞{:기^10}뒤]\".format(\"중간\")"
      ],
      "metadata": {
        "colab": {
          "base_uri": "https://localhost:8080/",
          "height": 35
        },
        "id": "uVEy0FRLR_Yu",
        "outputId": "1886d3ac-4e8c-46e4-8a0a-974d76c07663"
      },
      "execution_count": null,
      "outputs": [
        {
          "output_type": "execute_result",
          "data": {
            "text/plain": [
              "'[앞기기기기중간기기기기뒤]'"
            ],
            "application/vnd.google.colaboratory.intrinsic+json": {
              "type": "string"
            }
          },
          "metadata": {},
          "execution_count": 22
        }
      ]
    },
    {
      "cell_type": "code",
      "source": [
        "name=\"우열\"\n",
        "age = 34\n",
        "print(f\"{name}은 {age}살이다\")"
      ],
      "metadata": {
        "colab": {
          "base_uri": "https://localhost:8080/"
        },
        "id": "_0Y_S469SVeN",
        "outputId": "31fa893c-9c54-446a-e9b5-14467abb79bb"
      },
      "execution_count": null,
      "outputs": [
        {
          "output_type": "stream",
          "name": "stdout",
          "text": [
            "우열은 34살이다\n"
          ]
        }
      ]
    },
    {
      "cell_type": "code",
      "source": [
        "number = 123456\n",
        "f\"앞{number:-^10}뒤\""
      ],
      "metadata": {
        "colab": {
          "base_uri": "https://localhost:8080/",
          "height": 35
        },
        "id": "7QswjsP8S4_N",
        "outputId": "fe5a8eef-bd58-41bb-e09b-b52c891512d3"
      },
      "execution_count": null,
      "outputs": [
        {
          "output_type": "execute_result",
          "data": {
            "text/plain": [
              "'앞--123456--뒤'"
            ],
            "application/vnd.google.colaboratory.intrinsic+json": {
              "type": "string"
            }
          },
          "metadata": {},
          "execution_count": 24
        }
      ]
    },
    {
      "cell_type": "markdown",
      "source": [
        "# function"
      ],
      "metadata": {
        "id": "c2c459qCEu_v"
      }
    },
    {
      "cell_type": "code",
      "source": [
        "def twotimes(x):\n",
        "  y=2*x\n",
        "  return y\n",
        "\n",
        "twotimes(2)"
      ],
      "metadata": {
        "id": "HFtR8ej7TPBW",
        "colab": {
          "base_uri": "https://localhost:8080/"
        },
        "outputId": "7b03b28d-615a-447d-df2c-fef8cf9f495b"
      },
      "execution_count": null,
      "outputs": [
        {
          "output_type": "execute_result",
          "data": {
            "text/plain": [
              "4"
            ]
          },
          "metadata": {},
          "execution_count": 1
        }
      ]
    },
    {
      "cell_type": "code",
      "source": [
        "def add(x,y):\n",
        "  return x+y\n",
        "\n",
        "add(1,5)\n"
      ],
      "metadata": {
        "colab": {
          "base_uri": "https://localhost:8080/"
        },
        "id": "nW6FveTIFLPA",
        "outputId": "bbd30290-0707-4635-c90c-ad77d06546a4"
      },
      "execution_count": null,
      "outputs": [
        {
          "output_type": "execute_result",
          "data": {
            "text/plain": [
              "6"
            ]
          },
          "metadata": {},
          "execution_count": 2
        }
      ]
    },
    {
      "cell_type": "markdown",
      "source": [
        "## Lambda function"
      ],
      "metadata": {
        "id": "4e5J_2D0GFM2"
      }
    },
    {
      "cell_type": "code",
      "source": [
        "def f(x):\n",
        "  return 2*x\n",
        "\n",
        "\n",
        "g=lambda x : 2*x\n",
        "g(3)\n",
        "f((lambda x: 2+x)(5))"
      ],
      "metadata": {
        "colab": {
          "base_uri": "https://localhost:8080/"
        },
        "id": "JB7gexx8FPbU",
        "outputId": "ba5dcc6a-079c-4619-dcef-f2d607f90b5f"
      },
      "execution_count": null,
      "outputs": [
        {
          "output_type": "execute_result",
          "data": {
            "text/plain": [
              "14"
            ]
          },
          "metadata": {},
          "execution_count": 7
        }
      ]
    },
    {
      "cell_type": "markdown",
      "source": [
        "## 함수에서 전역변수 사용"
      ],
      "metadata": {
        "id": "UNSJm7OTMCOn"
      }
    },
    {
      "cell_type": "code",
      "source": [
        "z = 3\n",
        "\n",
        "def fx(x):\n",
        "  global z\n",
        "  z=99\n",
        "  return x+z\n",
        "\n",
        "print(z)\n",
        "fx(5)\n",
        "print(z)\n",
        "\n"
      ],
      "metadata": {
        "colab": {
          "base_uri": "https://localhost:8080/"
        },
        "id": "ahBwv7fmGQ0x",
        "outputId": "7d61bd7f-0910-4366-eab4-3a33ff10a8be"
      },
      "execution_count": null,
      "outputs": [
        {
          "output_type": "stream",
          "name": "stdout",
          "text": [
            "3\n",
            "99\n"
          ]
        }
      ]
    },
    {
      "cell_type": "code",
      "source": [
        "def getSequence(x):\n",
        "  sum = 0\n",
        "  for i in range(x):\n",
        "    for j in range (i+1):\n",
        "      sum = sum + j+1\n",
        "  return sum\n",
        "\n",
        "getSequence(3)"
      ],
      "metadata": {
        "colab": {
          "base_uri": "https://localhost:8080/"
        },
        "id": "f7qZRQ_VMO_N",
        "outputId": "8e4ae411-ef08-4d16-f346-5d0231e9e546"
      },
      "execution_count": null,
      "outputs": [
        {
          "output_type": "execute_result",
          "data": {
            "text/plain": [
              "10"
            ]
          },
          "metadata": {},
          "execution_count": 20
        }
      ]
    },
    {
      "cell_type": "markdown",
      "source": [
        "# List, Dictionary\n",
        "## List"
      ],
      "metadata": {
        "id": "u-_w-hM9axVV"
      }
    },
    {
      "cell_type": "code",
      "source": [
        "x = [88, 99, 'str']\n",
        "print(x[0])\n",
        "print(x[2])"
      ],
      "metadata": {
        "colab": {
          "base_uri": "https://localhost:8080/"
        },
        "id": "FNjoaLXOX8xe",
        "outputId": "9b1d62ae-3400-41cd-c6eb-131ddbdc3558"
      },
      "execution_count": null,
      "outputs": [
        {
          "output_type": "stream",
          "name": "stdout",
          "text": [
            "88\n",
            "str\n"
          ]
        }
      ]
    },
    {
      "cell_type": "markdown",
      "source": [
        "## Dictionary"
      ],
      "metadata": {
        "id": "YsjDgTdbbXz3"
      }
    },
    {
      "cell_type": "code",
      "source": [
        "b= {\"math\":88, 55:9}"
      ],
      "metadata": {
        "id": "dth5Cdu4a6QQ"
      },
      "execution_count": null,
      "outputs": []
    },
    {
      "cell_type": "code",
      "source": [
        "b[55]"
      ],
      "metadata": {
        "colab": {
          "base_uri": "https://localhost:8080/"
        },
        "id": "gyCqEEIBcwTN",
        "outputId": "b238da00-1e00-4992-f949-677fe7795e0e"
      },
      "execution_count": null,
      "outputs": [
        {
          "output_type": "execute_result",
          "data": {
            "text/plain": [
              "9"
            ]
          },
          "metadata": {},
          "execution_count": 24
        }
      ]
    },
    {
      "cell_type": "markdown",
      "source": [
        "## List in List"
      ],
      "metadata": {
        "id": "4ZCdx5hjekDP"
      }
    },
    {
      "cell_type": "code",
      "source": [
        "a = [[4,7],[2,5]]\n",
        "a[0][1]"
      ],
      "metadata": {
        "colab": {
          "base_uri": "https://localhost:8080/"
        },
        "id": "z7bQcbGUcx6S",
        "outputId": "ebf9fe04-acee-4b43-f54c-a159134660e0"
      },
      "execution_count": null,
      "outputs": [
        {
          "output_type": "execute_result",
          "data": {
            "text/plain": [
              "7"
            ]
          },
          "metadata": {},
          "execution_count": 26
        }
      ]
    },
    {
      "cell_type": "code",
      "source": [
        "b={\"A\":[1,2,3], \"B\":{\"c\":15}}"
      ],
      "metadata": {
        "id": "sSGh896WerLE"
      },
      "execution_count": null,
      "outputs": []
    },
    {
      "cell_type": "code",
      "source": [
        "b[\"B\"][\"c\"]"
      ],
      "metadata": {
        "colab": {
          "base_uri": "https://localhost:8080/"
        },
        "id": "jkn6YYjHf2t8",
        "outputId": "e2a67a7b-ccdd-4b19-884d-891574a66c95"
      },
      "execution_count": null,
      "outputs": [
        {
          "output_type": "execute_result",
          "data": {
            "text/plain": [
              "15"
            ]
          },
          "metadata": {},
          "execution_count": 29
        }
      ]
    },
    {
      "cell_type": "code",
      "source": [
        "len(b)"
      ],
      "metadata": {
        "colab": {
          "base_uri": "https://localhost:8080/"
        },
        "id": "G07gApQDgPBd",
        "outputId": "bb2a0a64-2167-44d8-edfc-ff93e54f7634"
      },
      "execution_count": null,
      "outputs": [
        {
          "output_type": "execute_result",
          "data": {
            "text/plain": [
              "2"
            ]
          },
          "metadata": {},
          "execution_count": 30
        }
      ]
    },
    {
      "cell_type": "code",
      "source": [
        "len(a)"
      ],
      "metadata": {
        "colab": {
          "base_uri": "https://localhost:8080/"
        },
        "id": "-nilm79mg2Qe",
        "outputId": "5c1b36c4-1862-4c62-ad10-929b0749e71b"
      },
      "execution_count": null,
      "outputs": [
        {
          "output_type": "execute_result",
          "data": {
            "text/plain": [
              "2"
            ]
          },
          "metadata": {},
          "execution_count": 31
        }
      ]
    },
    {
      "cell_type": "code",
      "source": [
        "b=list(range(10))"
      ],
      "metadata": {
        "id": "aCD9t7tJg5p2"
      },
      "execution_count": null,
      "outputs": []
    },
    {
      "cell_type": "code",
      "source": [
        "print(b)"
      ],
      "metadata": {
        "colab": {
          "base_uri": "https://localhost:8080/"
        },
        "id": "z96bUEwDidBl",
        "outputId": "8c241812-0131-4b4a-c540-58d2d8d40802"
      },
      "execution_count": null,
      "outputs": [
        {
          "output_type": "stream",
          "name": "stdout",
          "text": [
            "[0, 1, 2, 3, 4, 5, 6, 7, 8, 9]\n"
          ]
        }
      ]
    },
    {
      "cell_type": "code",
      "source": [
        "c=range(10)"
      ],
      "metadata": {
        "id": "WLwjv2-Vid8_"
      },
      "execution_count": null,
      "outputs": []
    },
    {
      "cell_type": "code",
      "source": [
        "print(c)"
      ],
      "metadata": {
        "colab": {
          "base_uri": "https://localhost:8080/"
        },
        "id": "SoOR-AUsifoU",
        "outputId": "7c0a1f5c-27a8-4c4d-d1ef-163d53238e00"
      },
      "execution_count": null,
      "outputs": [
        {
          "output_type": "stream",
          "name": "stdout",
          "text": [
            "range(0, 10)\n"
          ]
        }
      ]
    },
    {
      "cell_type": "code",
      "source": [
        "c=list(range(2,10,3))\n",
        "print(c)"
      ],
      "metadata": {
        "colab": {
          "base_uri": "https://localhost:8080/"
        },
        "id": "hW3OG0Quigpf",
        "outputId": "e1fd88bf-dee1-4d82-e60d-4b76a8d7cee0"
      },
      "execution_count": null,
      "outputs": [
        {
          "output_type": "stream",
          "name": "stdout",
          "text": [
            "[2, 5, 8]\n"
          ]
        }
      ]
    },
    {
      "cell_type": "code",
      "source": [
        "c.append(4)"
      ],
      "metadata": {
        "id": "7Xl2h1ipiymN"
      },
      "execution_count": null,
      "outputs": []
    },
    {
      "cell_type": "code",
      "source": [
        "print(c)"
      ],
      "metadata": {
        "colab": {
          "base_uri": "https://localhost:8080/"
        },
        "id": "x-PwZJQunN1l",
        "outputId": "7719ebaf-9451-4ce5-ba12-326169de4830"
      },
      "execution_count": null,
      "outputs": [
        {
          "output_type": "stream",
          "name": "stdout",
          "text": [
            "[2, 5, 8, 4]\n"
          ]
        }
      ]
    },
    {
      "cell_type": "code",
      "source": [
        "del c[3]"
      ],
      "metadata": {
        "id": "Iz2ERr4WnPy6"
      },
      "execution_count": null,
      "outputs": []
    },
    {
      "cell_type": "code",
      "source": [
        "print(c)"
      ],
      "metadata": {
        "colab": {
          "base_uri": "https://localhost:8080/"
        },
        "id": "gz3mNdklnXMb",
        "outputId": "b968e54d-6713-4942-8cc6-794d8040eb9b"
      },
      "execution_count": null,
      "outputs": [
        {
          "output_type": "stream",
          "name": "stdout",
          "text": [
            "[2, 5, 8]\n"
          ]
        }
      ]
    },
    {
      "cell_type": "code",
      "source": [
        "g=list(range(20))"
      ],
      "metadata": {
        "id": "MpO840munX9K"
      },
      "execution_count": null,
      "outputs": []
    },
    {
      "cell_type": "code",
      "source": [
        "print(g[10:15])"
      ],
      "metadata": {
        "colab": {
          "base_uri": "https://localhost:8080/"
        },
        "id": "ZzDfUHusnnNJ",
        "outputId": "da247ab8-b402-4933-f4fe-ea3be07b5d1e"
      },
      "execution_count": null,
      "outputs": [
        {
          "output_type": "stream",
          "name": "stdout",
          "text": [
            "[10, 11, 12, 13, 14]\n"
          ]
        }
      ]
    },
    {
      "cell_type": "code",
      "source": [
        "print(g[-1])"
      ],
      "metadata": {
        "colab": {
          "base_uri": "https://localhost:8080/"
        },
        "id": "ovejPwRZnrRa",
        "outputId": "eaefdc89-21b6-49f4-fd87-2220409b274f"
      },
      "execution_count": null,
      "outputs": [
        {
          "output_type": "stream",
          "name": "stdout",
          "text": [
            "19\n"
          ]
        }
      ]
    },
    {
      "cell_type": "code",
      "source": [
        "print(g[-5:-2])"
      ],
      "metadata": {
        "colab": {
          "base_uri": "https://localhost:8080/"
        },
        "id": "_EXJkbiwn3Iu",
        "outputId": "afaa8bad-9301-4ea2-d0a8-c46a6fbb5827"
      },
      "execution_count": null,
      "outputs": [
        {
          "output_type": "stream",
          "name": "stdout",
          "text": [
            "[15, 16, 17]\n"
          ]
        }
      ]
    },
    {
      "cell_type": "code",
      "source": [
        "for i, e in enumerate([\"a\", \"b\", \"c\"]):\n",
        "  print(f'i={i}, e={e}')"
      ],
      "metadata": {
        "colab": {
          "base_uri": "https://localhost:8080/"
        },
        "id": "QGLIT6jQn50e",
        "outputId": "3b8deb2d-344e-4d39-e35e-a34a2f39da71"
      },
      "execution_count": null,
      "outputs": [
        {
          "output_type": "stream",
          "name": "stdout",
          "text": [
            "i=0, e=a\n",
            "i=1, e=b\n",
            "i=2, e=c\n"
          ]
        }
      ]
    },
    {
      "cell_type": "code",
      "source": [
        "a1 = [90, 85, 95, 80, 90, 100, 85, 75, 85, 80]\n",
        "a2 = [95, 90, 90, 90, 95, 100, 90, 80, 95, 90]\n",
        "a12=list(zip(a1,a2))\n",
        "print(a12)"
      ],
      "metadata": {
        "colab": {
          "base_uri": "https://localhost:8080/"
        },
        "id": "NQ0Uoj_fqROq",
        "outputId": "d2c9a396-6e46-4ef8-d954-8817af7c08ed"
      },
      "execution_count": null,
      "outputs": [
        {
          "output_type": "stream",
          "name": "stdout",
          "text": [
            "[(90, 95), (85, 90), (95, 90), (80, 90), (90, 95), (100, 100), (85, 90), (75, 80), (85, 95), (80, 90)]\n"
          ]
        }
      ]
    },
    {
      "cell_type": "code",
      "source": [
        "a21=list(zip(*a12))\n",
        "print(a21)"
      ],
      "metadata": {
        "colab": {
          "base_uri": "https://localhost:8080/"
        },
        "id": "kp34e3f4sE2b",
        "outputId": "0e01167f-a9e2-44e3-ce19-3195131e4b98"
      },
      "execution_count": null,
      "outputs": [
        {
          "output_type": "stream",
          "name": "stdout",
          "text": [
            "[(90, 85, 95, 80, 90, 100, 85, 75, 85, 80), (95, 90, 90, 90, 95, 100, 90, 80, 95, 90)]\n"
          ]
        }
      ]
    },
    {
      "cell_type": "code",
      "source": [
        "for a1i, a2i in a12:\n",
        "  print(f'a1i: {a1i}, a2i: {a2i}')"
      ],
      "metadata": {
        "colab": {
          "base_uri": "https://localhost:8080/"
        },
        "id": "PzWTSKshsmxG",
        "outputId": "c1aa3579-6f6e-43da-d65c-a465627dcdc0"
      },
      "execution_count": null,
      "outputs": [
        {
          "output_type": "stream",
          "name": "stdout",
          "text": [
            "a1i: 90, a2i: 95\n",
            "a1i: 85, a2i: 90\n",
            "a1i: 95, a2i: 90\n",
            "a1i: 80, a2i: 90\n",
            "a1i: 90, a2i: 95\n",
            "a1i: 100, a2i: 100\n",
            "a1i: 85, a2i: 90\n",
            "a1i: 75, a2i: 80\n",
            "a1i: 85, a2i: 95\n",
            "a1i: 80, a2i: 90\n"
          ]
        }
      ]
    },
    {
      "cell_type": "markdown",
      "source": [
        "# 복수할당"
      ],
      "metadata": {
        "id": "UAKQjZRctcru"
      }
    },
    {
      "cell_type": "code",
      "source": [
        "h=[1,2,3]\n",
        "h1, h2, h3 = h\n",
        "print(f'h: {h1}, {h2}, {h3}')"
      ],
      "metadata": {
        "colab": {
          "base_uri": "https://localhost:8080/"
        },
        "id": "oqWmzxiTtFR6",
        "outputId": "7b105957-be28-4009-fc44-6a3646bb1f1d"
      },
      "execution_count": null,
      "outputs": [
        {
          "output_type": "stream",
          "name": "stdout",
          "text": [
            "h: 1, 2, 3\n"
          ]
        }
      ]
    },
    {
      "cell_type": "code",
      "source": [
        "x = [\n",
        "  [\"길동\", 90],\n",
        "  [\"철수\", 80],\n",
        "  [\"영수\", 70],\n",
        "  [\"방자\", 60],\n",
        "]"
      ],
      "metadata": {
        "id": "HZxnsLdbudwT"
      },
      "execution_count": null,
      "outputs": []
    },
    {
      "cell_type": "code",
      "source": [
        "z1, z2 = list(zip(*x))\n",
        "print(z1)"
      ],
      "metadata": {
        "colab": {
          "base_uri": "https://localhost:8080/"
        },
        "id": "lfYdMQw1vJD8",
        "outputId": "787abdb6-ac3d-4064-df16-762eede4faf0"
      },
      "execution_count": null,
      "outputs": [
        {
          "output_type": "stream",
          "name": "stdout",
          "text": [
            "('길동', '철수', '영수', '방자')\n"
          ]
        }
      ]
    },
    {
      "cell_type": "markdown",
      "source": [
        "# 연습문제 분산 구하는 코드"
      ],
      "metadata": {
        "id": "wFBVAipbvvxn"
      }
    },
    {
      "cell_type": "code",
      "source": [
        "def get_variance(x):\n",
        "  mean = sum(x)/len(x)\n",
        "  var = 0\n",
        "  for i in x:\n",
        "    var=var+(i-mean)*(i-mean)\n",
        "  return var / len(x)\n",
        "\n",
        "x=[6,5,4,7,3,5]\n",
        "var = get_variance(x)\n",
        "print(var)\n"
      ],
      "metadata": {
        "colab": {
          "base_uri": "https://localhost:8080/"
        },
        "id": "xtz8V9zfvU10",
        "outputId": "2eb015ba-b461-4579-c763-645bd38e19b1"
      },
      "execution_count": null,
      "outputs": [
        {
          "output_type": "stream",
          "name": "stdout",
          "text": [
            "1.6666666666666667\n"
          ]
        }
      ]
    },
    {
      "cell_type": "code",
      "source": [
        "import numpy as np\n",
        "np.var(x)"
      ],
      "metadata": {
        "colab": {
          "base_uri": "https://localhost:8080/"
        },
        "id": "UnCqdavrwzRk",
        "outputId": "eb27a351-c84b-4f9e-e117-6d65e7ec65c2"
      },
      "execution_count": null,
      "outputs": [
        {
          "output_type": "execute_result",
          "data": {
            "text/plain": [
              "1.6666666666666667"
            ]
          },
          "metadata": {},
          "execution_count": 56
        }
      ]
    },
    {
      "cell_type": "markdown",
      "source": [
        "# Weighted sum"
      ],
      "metadata": {
        "id": "M6ZRAkrMxyPG"
      }
    },
    {
      "cell_type": "code",
      "source": [
        "def get_weighted_sum(v,w):\n",
        "  people = list(zip(v, w))\n",
        "  print(people)\n",
        "  weighted_sum = 0\n",
        "  weight_sum = 0\n",
        "  for v1, v2 in people:\n",
        "    weighted_sum = weighted_sum + v1*v2\n",
        "    weight_sum = weight_sum+v2\n",
        "  return weighted_sum/weight_sum\n",
        "\n",
        "value = [4,3,2,3,4]\n",
        "weight = [3,3,1,2,2]\n",
        "\n",
        "z = get_weighted_sum(value, weight)\n",
        "print(z)\n",
        "\n"
      ],
      "metadata": {
        "colab": {
          "base_uri": "https://localhost:8080/"
        },
        "id": "WAPY3sx_xdzK",
        "outputId": "6e84bb57-8f65-43f2-a9c9-b9dae82af05c"
      },
      "execution_count": null,
      "outputs": [
        {
          "output_type": "stream",
          "name": "stdout",
          "text": [
            "[(4, 3), (3, 3), (2, 1), (3, 2), (4, 2)]\n",
            "3.3636363636363638\n"
          ]
        }
      ]
    },
    {
      "cell_type": "markdown",
      "source": [
        "# dictionary"
      ],
      "metadata": {
        "id": "r6rtXc1rZ3zP"
      }
    },
    {
      "cell_type": "code",
      "source": [
        "x={\"a\":10, \"b\":20}\n",
        "print(x[\"a\"])\n",
        "x[\"a\"]=20\n",
        "print(x[\"a\"])\n"
      ],
      "metadata": {
        "id": "zYTQTdkk0Nbq",
        "colab": {
          "base_uri": "https://localhost:8080/"
        },
        "outputId": "c8d7263c-f9e3-4f45-d382-8a5f3e57bd48"
      },
      "execution_count": 1,
      "outputs": [
        {
          "output_type": "stream",
          "name": "stdout",
          "text": [
            "10\n",
            "20\n"
          ]
        }
      ]
    },
    {
      "cell_type": "code",
      "source": [
        "x[\"c\"]=30\n",
        "print(x)"
      ],
      "metadata": {
        "colab": {
          "base_uri": "https://localhost:8080/"
        },
        "id": "F6sg9veDZMMy",
        "outputId": "85e6e24d-99c7-409c-92e2-0a650e1bd439"
      },
      "execution_count": 2,
      "outputs": [
        {
          "output_type": "stream",
          "name": "stdout",
          "text": [
            "{'a': 20, 'b': 20, 'c': 30}\n"
          ]
        }
      ]
    },
    {
      "cell_type": "code",
      "source": [
        "del x[\"b\"]\n",
        "print(x)"
      ],
      "metadata": {
        "colab": {
          "base_uri": "https://localhost:8080/"
        },
        "id": "8JT0j-uMZRQ2",
        "outputId": "0bf4995c-a77e-4ca2-dfcb-a68628ef009b"
      },
      "execution_count": 3,
      "outputs": [
        {
          "output_type": "stream",
          "name": "stdout",
          "text": [
            "{'a': 20, 'c': 30}\n"
          ]
        }
      ]
    },
    {
      "cell_type": "code",
      "source": [
        "\"a\" in x"
      ],
      "metadata": {
        "colab": {
          "base_uri": "https://localhost:8080/"
        },
        "id": "mJllHrSfZVGO",
        "outputId": "e46c04cb-43f7-4cc7-ff46-6021f5f1525c"
      },
      "execution_count": 4,
      "outputs": [
        {
          "output_type": "execute_result",
          "data": {
            "text/plain": [
              "True"
            ]
          },
          "metadata": {},
          "execution_count": 4
        }
      ]
    },
    {
      "cell_type": "code",
      "source": [
        "\"d\" in x"
      ],
      "metadata": {
        "colab": {
          "base_uri": "https://localhost:8080/"
        },
        "id": "GCvOAExYZYml",
        "outputId": "51fa1933-c7bc-4e45-cd47-99520de3f418"
      },
      "execution_count": 5,
      "outputs": [
        {
          "output_type": "execute_result",
          "data": {
            "text/plain": [
              "False"
            ]
          },
          "metadata": {},
          "execution_count": 5
        }
      ]
    },
    {
      "cell_type": "code",
      "source": [
        "x[\"b\"]=20\n",
        "print(x)"
      ],
      "metadata": {
        "colab": {
          "base_uri": "https://localhost:8080/"
        },
        "id": "0Xzq0zVsZZ-h",
        "outputId": "e441cb23-543c-4d0a-bb9d-d6f3294c7f25"
      },
      "execution_count": 6,
      "outputs": [
        {
          "output_type": "stream",
          "name": "stdout",
          "text": [
            "{'a': 20, 'c': 30, 'b': 20}\n"
          ]
        }
      ]
    },
    {
      "cell_type": "code",
      "source": [
        "for k in x:\n",
        "  print(k)"
      ],
      "metadata": {
        "colab": {
          "base_uri": "https://localhost:8080/"
        },
        "id": "8i2bqb52Zkv-",
        "outputId": "aa3e27a9-4f9f-40fd-bfcd-d5efb95e76c0"
      },
      "execution_count": 7,
      "outputs": [
        {
          "output_type": "stream",
          "name": "stdout",
          "text": [
            "a\n",
            "c\n",
            "b\n"
          ]
        }
      ]
    },
    {
      "cell_type": "code",
      "source": [
        "x.keys()"
      ],
      "metadata": {
        "colab": {
          "base_uri": "https://localhost:8080/"
        },
        "id": "cZE_QssVZmzl",
        "outputId": "04df5471-2f9e-4928-c163-6de50167c91f"
      },
      "execution_count": 8,
      "outputs": [
        {
          "output_type": "execute_result",
          "data": {
            "text/plain": [
              "dict_keys(['a', 'c', 'b'])"
            ]
          },
          "metadata": {},
          "execution_count": 8
        }
      ]
    },
    {
      "cell_type": "code",
      "source": [
        "for k in x.keys():\n",
        "  print(k)"
      ],
      "metadata": {
        "colab": {
          "base_uri": "https://localhost:8080/"
        },
        "id": "dXWefc98ZqDk",
        "outputId": "98aba1c2-6839-4222-bb5d-2940922869c3"
      },
      "execution_count": 9,
      "outputs": [
        {
          "output_type": "stream",
          "name": "stdout",
          "text": [
            "a\n",
            "c\n",
            "b\n"
          ]
        }
      ]
    },
    {
      "cell_type": "code",
      "source": [
        "x.values()"
      ],
      "metadata": {
        "colab": {
          "base_uri": "https://localhost:8080/"
        },
        "id": "aN3Q5QW1Z0gb",
        "outputId": "d14a26ce-0332-4e79-c730-e2956a75f19f"
      },
      "execution_count": 10,
      "outputs": [
        {
          "output_type": "execute_result",
          "data": {
            "text/plain": [
              "dict_values([20, 30, 20])"
            ]
          },
          "metadata": {},
          "execution_count": 10
        }
      ]
    },
    {
      "cell_type": "code",
      "source": [
        "for v in x.values():\n",
        "  print(v)"
      ],
      "metadata": {
        "colab": {
          "base_uri": "https://localhost:8080/"
        },
        "id": "8EzXWXLwaF2k",
        "outputId": "133420a0-d5b2-4661-f881-441bfec507ff"
      },
      "execution_count": 11,
      "outputs": [
        {
          "output_type": "stream",
          "name": "stdout",
          "text": [
            "20\n",
            "30\n",
            "20\n"
          ]
        }
      ]
    },
    {
      "cell_type": "code",
      "source": [
        "x.items()"
      ],
      "metadata": {
        "colab": {
          "base_uri": "https://localhost:8080/"
        },
        "id": "RZR5nyFCaIpO",
        "outputId": "673f0c9a-2c22-4cda-a1ea-5eed9faba90d"
      },
      "execution_count": 12,
      "outputs": [
        {
          "output_type": "execute_result",
          "data": {
            "text/plain": [
              "dict_items([('a', 20), ('c', 30), ('b', 20)])"
            ]
          },
          "metadata": {},
          "execution_count": 12
        }
      ]
    },
    {
      "cell_type": "code",
      "source": [
        "for k, v in x.items():\n",
        "  print(f'keys: {k}, values: {v}')"
      ],
      "metadata": {
        "colab": {
          "base_uri": "https://localhost:8080/"
        },
        "id": "2UJiZvEKaK4J",
        "outputId": "afc043bb-e0b4-4a87-99a5-d68f6984a817"
      },
      "execution_count": 14,
      "outputs": [
        {
          "output_type": "stream",
          "name": "stdout",
          "text": [
            "keys: a, values: 20\n",
            "keys: c, values: 30\n",
            "keys: b, values: 20\n"
          ]
        }
      ]
    },
    {
      "cell_type": "markdown",
      "source": [
        "# Class"
      ],
      "metadata": {
        "id": "ot2e0raIk42G"
      }
    },
    {
      "cell_type": "code",
      "source": [
        "class Rectangle(object):\n",
        "  def __init__(self, h, v):\n",
        "    self.h = h\n",
        "    self.v = v\n",
        "  \n",
        "  def area(self):\n",
        "    return self.h*self.v\n",
        "\n",
        "r = Rectangle(10, 20)\n",
        "a = r.area()\n",
        "print(a)\n"
      ],
      "metadata": {
        "colab": {
          "base_uri": "https://localhost:8080/"
        },
        "id": "gt2gS8aDaNsi",
        "outputId": "cd4157d9-a989-4b1d-8a2e-2d23948f3650"
      },
      "execution_count": 15,
      "outputs": [
        {
          "output_type": "stream",
          "name": "stdout",
          "text": [
            "200\n"
          ]
        }
      ]
    },
    {
      "cell_type": "code",
      "source": [
        "r.h"
      ],
      "metadata": {
        "colab": {
          "base_uri": "https://localhost:8080/"
        },
        "id": "qJtZxVydlM2x",
        "outputId": "90dc5ed0-862d-40fc-a5ed-29a6a084a061"
      },
      "execution_count": 16,
      "outputs": [
        {
          "output_type": "execute_result",
          "data": {
            "text/plain": [
              "10"
            ]
          },
          "metadata": {},
          "execution_count": 16
        }
      ]
    },
    {
      "cell_type": "code",
      "source": [
        "class Character(object):\n",
        "  def __init__(self):\n",
        "    self.life = 1000\n",
        "  \n",
        "  def attackted(self):\n",
        "    self.life -= 10\n",
        "    print(\"attacked! life =\", self.life)\n",
        "  \n",
        "  def attack(self):\n",
        "    print(\"attack!\")\n",
        "\n",
        "a= Character()\n",
        "b= Character()\n",
        "c= Character()\n",
        "\n",
        "a.life\n",
        "a.attackted()\n",
        "b.attackted()\n"
      ],
      "metadata": {
        "colab": {
          "base_uri": "https://localhost:8080/"
        },
        "id": "3UTXEVfUlPvu",
        "outputId": "387c162f-0532-48d0-db4d-7773a95850e5"
      },
      "execution_count": 18,
      "outputs": [
        {
          "output_type": "stream",
          "name": "stdout",
          "text": [
            "attacked! life = 990\n",
            "attacked! life = 990\n"
          ]
        }
      ]
    },
    {
      "cell_type": "code",
      "source": [
        "class Warrior(Character):\n",
        "  def __init__(self):\n",
        "    super(Warrior, self).__init__()\n",
        "  \n",
        "  def attack(self):\n",
        "    print(\"warrior attack\")\n",
        "\n",
        "a = Warrior()\n",
        "a.attackted()\n",
        "a.attack()"
      ],
      "metadata": {
        "colab": {
          "base_uri": "https://localhost:8080/"
        },
        "id": "2c3wPHBulytc",
        "outputId": "48a31ecd-21ba-4eff-eb79-eeae94a6f461"
      },
      "execution_count": 19,
      "outputs": [
        {
          "output_type": "stream",
          "name": "stdout",
          "text": [
            "attacked! life = 990\n",
            "warrior attack\n"
          ]
        }
      ]
    },
    {
      "cell_type": "code",
      "source": [
        "class Wizard(Character):\n",
        "  def __init__(self):\n",
        "    super(Wizard, self).__init__()\n",
        "  \n",
        "  def attack(self):\n",
        "    print(\"Wizard attack\")"
      ],
      "metadata": {
        "id": "UDcmQCa-mY8z"
      },
      "execution_count": 20,
      "outputs": []
    },
    {
      "cell_type": "code",
      "source": [
        "b = Wizard()\n",
        "b.attackted()\n",
        "b.attack()"
      ],
      "metadata": {
        "colab": {
          "base_uri": "https://localhost:8080/"
        },
        "id": "BKZzJkrompol",
        "outputId": "df492645-c044-4db8-dd28-4a07ccc7a519"
      },
      "execution_count": 22,
      "outputs": [
        {
          "output_type": "stream",
          "name": "stdout",
          "text": [
            "attacked! life = 990\n",
            "Wizard attack\n"
          ]
        }
      ]
    },
    {
      "cell_type": "markdown",
      "source": [
        "# special method"
      ],
      "metadata": {
        "id": "2smyEytXn39V"
      }
    },
    {
      "cell_type": "code",
      "source": [
        "class Complex(object):\n",
        "  def __init__(self, real, image):\n",
        "    self.real = real\n",
        "    self.image = image\n",
        "  \n",
        "class Complex2(Complex):\n",
        "  def __repr__(self):\n",
        "    return f'Complex real: {self.real}, complex image: {self.image}'\n",
        "  def __str__(self):\n",
        "    return \"[for str] \" + self.__repr__()\n",
        "  def __getitem__(self, key):\n",
        "    if key=='r':\n",
        "      return self.real\n",
        "    elif key=='i':\n",
        "      return self.image\n",
        "\n",
        "c2 =Complex2(10,20)\n",
        "c2"
      ],
      "metadata": {
        "colab": {
          "base_uri": "https://localhost:8080/"
        },
        "id": "0D3Rs9V8mtXm",
        "outputId": "5557aae6-5c08-48f9-c73a-c38c1ac90dfd"
      },
      "execution_count": 29,
      "outputs": [
        {
          "output_type": "execute_result",
          "data": {
            "text/plain": [
              "Complex real: 10, complex image: 20"
            ]
          },
          "metadata": {},
          "execution_count": 29
        }
      ]
    },
    {
      "cell_type": "code",
      "source": [
        "str(c2)"
      ],
      "metadata": {
        "colab": {
          "base_uri": "https://localhost:8080/",
          "height": 35
        },
        "id": "q03jc6aeoqvi",
        "outputId": "2b2a52eb-084a-4b4f-d0bc-050e07ac3e15"
      },
      "execution_count": 30,
      "outputs": [
        {
          "output_type": "execute_result",
          "data": {
            "text/plain": [
              "'[for str] Complex real: 10, complex image: 20'"
            ],
            "application/vnd.google.colaboratory.intrinsic+json": {
              "type": "string"
            }
          },
          "metadata": {},
          "execution_count": 30
        }
      ]
    },
    {
      "cell_type": "code",
      "source": [
        "c2['i']"
      ],
      "metadata": {
        "colab": {
          "base_uri": "https://localhost:8080/"
        },
        "id": "GG_xkqQWpHTG",
        "outputId": "4fad06b5-4230-4d22-c268-2d58987f7098"
      },
      "execution_count": 31,
      "outputs": [
        {
          "output_type": "execute_result",
          "data": {
            "text/plain": [
              "20"
            ]
          },
          "metadata": {},
          "execution_count": 31
        }
      ]
    },
    {
      "cell_type": "code",
      "source": [
        "class Student(object):\n",
        "  def __init__(self, index, name, math, english):\n",
        "    self.index = index\n",
        "    self.name = name\n",
        "    self.math = math\n",
        "    self.english = english\n",
        "\n",
        "  def get_average(self):\n",
        "    return (self.math+self.english)/2\n",
        "\n",
        "  def __repr__(self):\n",
        "    return f'name: {self.name}, index: {self.index}'\n",
        "  \n",
        "  def __str__(self):\n",
        "    return self.name\n",
        "\n",
        "  def __getitem__(self, key):\n",
        "    if key == \"math\":\n",
        "      return self.math\n",
        "    elif key == \"english\":\n",
        "      return self.english\n",
        "\n",
        "a = Student(1, \"john\", 80, 90)\n",
        "print(a.get_average())\n",
        "print(str(a))\n",
        "a[\"math\"]\n",
        "a\n"
      ],
      "metadata": {
        "colab": {
          "base_uri": "https://localhost:8080/"
        },
        "id": "9qmraSIlpbVa",
        "outputId": "7ba6771c-1f57-4f25-cc0c-123ebba15cfb"
      },
      "execution_count": 35,
      "outputs": [
        {
          "output_type": "stream",
          "name": "stdout",
          "text": [
            "85.0\n",
            "john\n",
            "john\n"
          ]
        },
        {
          "output_type": "execute_result",
          "data": {
            "text/plain": [
              "name: john, index: 1"
            ]
          },
          "metadata": {},
          "execution_count": 35
        }
      ]
    },
    {
      "cell_type": "markdown",
      "source": [
        "# Package"
      ],
      "metadata": {
        "id": "250b_sRoFLpU"
      }
    },
    {
      "cell_type": "code",
      "source": [
        "import numpy as np\n",
        "\n",
        "dir(np)"
      ],
      "metadata": {
        "colab": {
          "base_uri": "https://localhost:8080/"
        },
        "id": "G2OLNOpbzFvu",
        "outputId": "e6fae27b-17f6-46d6-edad-8d7bd34ef603"
      },
      "execution_count": 1,
      "outputs": [
        {
          "output_type": "execute_result",
          "data": {
            "text/plain": [
              "['ALLOW_THREADS',\n",
              " 'AxisError',\n",
              " 'BUFSIZE',\n",
              " 'Bytes0',\n",
              " 'CLIP',\n",
              " 'ComplexWarning',\n",
              " 'DataSource',\n",
              " 'Datetime64',\n",
              " 'ERR_CALL',\n",
              " 'ERR_DEFAULT',\n",
              " 'ERR_IGNORE',\n",
              " 'ERR_LOG',\n",
              " 'ERR_PRINT',\n",
              " 'ERR_RAISE',\n",
              " 'ERR_WARN',\n",
              " 'FLOATING_POINT_SUPPORT',\n",
              " 'FPE_DIVIDEBYZERO',\n",
              " 'FPE_INVALID',\n",
              " 'FPE_OVERFLOW',\n",
              " 'FPE_UNDERFLOW',\n",
              " 'False_',\n",
              " 'Inf',\n",
              " 'Infinity',\n",
              " 'MAXDIMS',\n",
              " 'MAY_SHARE_BOUNDS',\n",
              " 'MAY_SHARE_EXACT',\n",
              " 'MachAr',\n",
              " 'ModuleDeprecationWarning',\n",
              " 'NAN',\n",
              " 'NINF',\n",
              " 'NZERO',\n",
              " 'NaN',\n",
              " 'PINF',\n",
              " 'PZERO',\n",
              " 'RAISE',\n",
              " 'RankWarning',\n",
              " 'SHIFT_DIVIDEBYZERO',\n",
              " 'SHIFT_INVALID',\n",
              " 'SHIFT_OVERFLOW',\n",
              " 'SHIFT_UNDERFLOW',\n",
              " 'ScalarType',\n",
              " 'Str0',\n",
              " 'Tester',\n",
              " 'TooHardError',\n",
              " 'True_',\n",
              " 'UFUNC_BUFSIZE_DEFAULT',\n",
              " 'UFUNC_PYVALS_NAME',\n",
              " 'Uint64',\n",
              " 'VisibleDeprecationWarning',\n",
              " 'WRAP',\n",
              " '_NoValue',\n",
              " '_UFUNC_API',\n",
              " '__NUMPY_SETUP__',\n",
              " '__all__',\n",
              " '__builtins__',\n",
              " '__cached__',\n",
              " '__config__',\n",
              " '__deprecated_attrs__',\n",
              " '__dir__',\n",
              " '__doc__',\n",
              " '__expired_functions__',\n",
              " '__file__',\n",
              " '__getattr__',\n",
              " '__git_version__',\n",
              " '__loader__',\n",
              " '__name__',\n",
              " '__package__',\n",
              " '__path__',\n",
              " '__spec__',\n",
              " '__version__',\n",
              " '_add_newdoc_ufunc',\n",
              " '_distributor_init',\n",
              " '_financial_names',\n",
              " '_globals',\n",
              " '_mat',\n",
              " '_pytesttester',\n",
              " '_version',\n",
              " 'abs',\n",
              " 'absolute',\n",
              " 'add',\n",
              " 'add_docstring',\n",
              " 'add_newdoc',\n",
              " 'add_newdoc_ufunc',\n",
              " 'alen',\n",
              " 'all',\n",
              " 'allclose',\n",
              " 'alltrue',\n",
              " 'amax',\n",
              " 'amin',\n",
              " 'angle',\n",
              " 'any',\n",
              " 'append',\n",
              " 'apply_along_axis',\n",
              " 'apply_over_axes',\n",
              " 'arange',\n",
              " 'arccos',\n",
              " 'arccosh',\n",
              " 'arcsin',\n",
              " 'arcsinh',\n",
              " 'arctan',\n",
              " 'arctan2',\n",
              " 'arctanh',\n",
              " 'argmax',\n",
              " 'argmin',\n",
              " 'argpartition',\n",
              " 'argsort',\n",
              " 'argwhere',\n",
              " 'around',\n",
              " 'array',\n",
              " 'array2string',\n",
              " 'array_equal',\n",
              " 'array_equiv',\n",
              " 'array_repr',\n",
              " 'array_split',\n",
              " 'array_str',\n",
              " 'asanyarray',\n",
              " 'asarray',\n",
              " 'asarray_chkfinite',\n",
              " 'ascontiguousarray',\n",
              " 'asfarray',\n",
              " 'asfortranarray',\n",
              " 'asmatrix',\n",
              " 'asscalar',\n",
              " 'atleast_1d',\n",
              " 'atleast_2d',\n",
              " 'atleast_3d',\n",
              " 'average',\n",
              " 'bartlett',\n",
              " 'base_repr',\n",
              " 'binary_repr',\n",
              " 'bincount',\n",
              " 'bitwise_and',\n",
              " 'bitwise_not',\n",
              " 'bitwise_or',\n",
              " 'bitwise_xor',\n",
              " 'blackman',\n",
              " 'block',\n",
              " 'bmat',\n",
              " 'bool8',\n",
              " 'bool_',\n",
              " 'broadcast',\n",
              " 'broadcast_arrays',\n",
              " 'broadcast_shapes',\n",
              " 'broadcast_to',\n",
              " 'busday_count',\n",
              " 'busday_offset',\n",
              " 'busdaycalendar',\n",
              " 'byte',\n",
              " 'byte_bounds',\n",
              " 'bytes0',\n",
              " 'bytes_',\n",
              " 'c_',\n",
              " 'can_cast',\n",
              " 'cast',\n",
              " 'cbrt',\n",
              " 'cdouble',\n",
              " 'ceil',\n",
              " 'cfloat',\n",
              " 'char',\n",
              " 'character',\n",
              " 'chararray',\n",
              " 'choose',\n",
              " 'clip',\n",
              " 'clongdouble',\n",
              " 'clongfloat',\n",
              " 'column_stack',\n",
              " 'common_type',\n",
              " 'compare_chararrays',\n",
              " 'compat',\n",
              " 'complex128',\n",
              " 'complex256',\n",
              " 'complex64',\n",
              " 'complex_',\n",
              " 'complexfloating',\n",
              " 'compress',\n",
              " 'concatenate',\n",
              " 'conj',\n",
              " 'conjugate',\n",
              " 'convolve',\n",
              " 'copy',\n",
              " 'copysign',\n",
              " 'copyto',\n",
              " 'core',\n",
              " 'corrcoef',\n",
              " 'correlate',\n",
              " 'cos',\n",
              " 'cosh',\n",
              " 'count_nonzero',\n",
              " 'cov',\n",
              " 'cross',\n",
              " 'csingle',\n",
              " 'ctypeslib',\n",
              " 'cumprod',\n",
              " 'cumproduct',\n",
              " 'cumsum',\n",
              " 'datetime64',\n",
              " 'datetime_as_string',\n",
              " 'datetime_data',\n",
              " 'deg2rad',\n",
              " 'degrees',\n",
              " 'delete',\n",
              " 'deprecate',\n",
              " 'deprecate_with_doc',\n",
              " 'diag',\n",
              " 'diag_indices',\n",
              " 'diag_indices_from',\n",
              " 'diagflat',\n",
              " 'diagonal',\n",
              " 'diff',\n",
              " 'digitize',\n",
              " 'disp',\n",
              " 'divide',\n",
              " 'divmod',\n",
              " 'dot',\n",
              " 'double',\n",
              " 'dsplit',\n",
              " 'dstack',\n",
              " 'dtype',\n",
              " 'e',\n",
              " 'ediff1d',\n",
              " 'einsum',\n",
              " 'einsum_path',\n",
              " 'emath',\n",
              " 'empty',\n",
              " 'empty_like',\n",
              " 'equal',\n",
              " 'errstate',\n",
              " 'euler_gamma',\n",
              " 'exp',\n",
              " 'exp2',\n",
              " 'expand_dims',\n",
              " 'expm1',\n",
              " 'extract',\n",
              " 'eye',\n",
              " 'fabs',\n",
              " 'fastCopyAndTranspose',\n",
              " 'fft',\n",
              " 'fill_diagonal',\n",
              " 'find_common_type',\n",
              " 'finfo',\n",
              " 'fix',\n",
              " 'flatiter',\n",
              " 'flatnonzero',\n",
              " 'flexible',\n",
              " 'flip',\n",
              " 'fliplr',\n",
              " 'flipud',\n",
              " 'float128',\n",
              " 'float16',\n",
              " 'float32',\n",
              " 'float64',\n",
              " 'float_',\n",
              " 'float_power',\n",
              " 'floating',\n",
              " 'floor',\n",
              " 'floor_divide',\n",
              " 'fmax',\n",
              " 'fmin',\n",
              " 'fmod',\n",
              " 'format_float_positional',\n",
              " 'format_float_scientific',\n",
              " 'format_parser',\n",
              " 'frexp',\n",
              " 'frombuffer',\n",
              " 'fromfile',\n",
              " 'fromfunction',\n",
              " 'fromiter',\n",
              " 'frompyfunc',\n",
              " 'fromregex',\n",
              " 'fromstring',\n",
              " 'full',\n",
              " 'full_like',\n",
              " 'gcd',\n",
              " 'generic',\n",
              " 'genfromtxt',\n",
              " 'geomspace',\n",
              " 'get_array_wrap',\n",
              " 'get_include',\n",
              " 'get_printoptions',\n",
              " 'getbufsize',\n",
              " 'geterr',\n",
              " 'geterrcall',\n",
              " 'geterrobj',\n",
              " 'gradient',\n",
              " 'greater',\n",
              " 'greater_equal',\n",
              " 'half',\n",
              " 'hamming',\n",
              " 'hanning',\n",
              " 'heaviside',\n",
              " 'histogram',\n",
              " 'histogram2d',\n",
              " 'histogram_bin_edges',\n",
              " 'histogramdd',\n",
              " 'hsplit',\n",
              " 'hstack',\n",
              " 'hypot',\n",
              " 'i0',\n",
              " 'identity',\n",
              " 'iinfo',\n",
              " 'imag',\n",
              " 'in1d',\n",
              " 'index_exp',\n",
              " 'indices',\n",
              " 'inexact',\n",
              " 'inf',\n",
              " 'info',\n",
              " 'infty',\n",
              " 'inner',\n",
              " 'insert',\n",
              " 'int0',\n",
              " 'int16',\n",
              " 'int32',\n",
              " 'int64',\n",
              " 'int8',\n",
              " 'int_',\n",
              " 'intc',\n",
              " 'integer',\n",
              " 'interp',\n",
              " 'intersect1d',\n",
              " 'intp',\n",
              " 'invert',\n",
              " 'is_busday',\n",
              " 'isclose',\n",
              " 'iscomplex',\n",
              " 'iscomplexobj',\n",
              " 'isfinite',\n",
              " 'isfortran',\n",
              " 'isin',\n",
              " 'isinf',\n",
              " 'isnan',\n",
              " 'isnat',\n",
              " 'isneginf',\n",
              " 'isposinf',\n",
              " 'isreal',\n",
              " 'isrealobj',\n",
              " 'isscalar',\n",
              " 'issctype',\n",
              " 'issubclass_',\n",
              " 'issubdtype',\n",
              " 'issubsctype',\n",
              " 'iterable',\n",
              " 'ix_',\n",
              " 'kaiser',\n",
              " 'kernel_version',\n",
              " 'kron',\n",
              " 'lcm',\n",
              " 'ldexp',\n",
              " 'left_shift',\n",
              " 'less',\n",
              " 'less_equal',\n",
              " 'lexsort',\n",
              " 'lib',\n",
              " 'linalg',\n",
              " 'linspace',\n",
              " 'little_endian',\n",
              " 'load',\n",
              " 'loads',\n",
              " 'loadtxt',\n",
              " 'log',\n",
              " 'log10',\n",
              " 'log1p',\n",
              " 'log2',\n",
              " 'logaddexp',\n",
              " 'logaddexp2',\n",
              " 'logical_and',\n",
              " 'logical_not',\n",
              " 'logical_or',\n",
              " 'logical_xor',\n",
              " 'logspace',\n",
              " 'longcomplex',\n",
              " 'longdouble',\n",
              " 'longfloat',\n",
              " 'longlong',\n",
              " 'lookfor',\n",
              " 'ma',\n",
              " 'mafromtxt',\n",
              " 'mask_indices',\n",
              " 'mat',\n",
              " 'math',\n",
              " 'matmul',\n",
              " 'matrix',\n",
              " 'matrixlib',\n",
              " 'max',\n",
              " 'maximum',\n",
              " 'maximum_sctype',\n",
              " 'may_share_memory',\n",
              " 'mean',\n",
              " 'median',\n",
              " 'memmap',\n",
              " 'meshgrid',\n",
              " 'mgrid',\n",
              " 'min',\n",
              " 'min_scalar_type',\n",
              " 'minimum',\n",
              " 'mintypecode',\n",
              " 'mod',\n",
              " 'modf',\n",
              " 'moveaxis',\n",
              " 'msort',\n",
              " 'multiply',\n",
              " 'nan',\n",
              " 'nan_to_num',\n",
              " 'nanargmax',\n",
              " 'nanargmin',\n",
              " 'nancumprod',\n",
              " 'nancumsum',\n",
              " 'nanmax',\n",
              " 'nanmean',\n",
              " 'nanmedian',\n",
              " 'nanmin',\n",
              " 'nanpercentile',\n",
              " 'nanprod',\n",
              " 'nanquantile',\n",
              " 'nanstd',\n",
              " 'nansum',\n",
              " 'nanvar',\n",
              " 'nbytes',\n",
              " 'ndarray',\n",
              " 'ndenumerate',\n",
              " 'ndfromtxt',\n",
              " 'ndim',\n",
              " 'ndindex',\n",
              " 'nditer',\n",
              " 'negative',\n",
              " 'nested_iters',\n",
              " 'newaxis',\n",
              " 'nextafter',\n",
              " 'nonzero',\n",
              " 'not_equal',\n",
              " 'numarray',\n",
              " 'number',\n",
              " 'obj2sctype',\n",
              " 'object0',\n",
              " 'object_',\n",
              " 'ogrid',\n",
              " 'oldnumeric',\n",
              " 'ones',\n",
              " 'ones_like',\n",
              " 'os',\n",
              " 'outer',\n",
              " 'packbits',\n",
              " 'pad',\n",
              " 'partition',\n",
              " 'percentile',\n",
              " 'pi',\n",
              " 'piecewise',\n",
              " 'place',\n",
              " 'poly',\n",
              " 'poly1d',\n",
              " 'polyadd',\n",
              " 'polyder',\n",
              " 'polydiv',\n",
              " 'polyfit',\n",
              " 'polyint',\n",
              " 'polymul',\n",
              " 'polynomial',\n",
              " 'polysub',\n",
              " 'polyval',\n",
              " 'positive',\n",
              " 'power',\n",
              " 'printoptions',\n",
              " 'prod',\n",
              " 'product',\n",
              " 'promote_types',\n",
              " 'ptp',\n",
              " 'put',\n",
              " 'put_along_axis',\n",
              " 'putmask',\n",
              " 'quantile',\n",
              " 'r_',\n",
              " 'rad2deg',\n",
              " 'radians',\n",
              " 'random',\n",
              " 'ravel',\n",
              " 'ravel_multi_index',\n",
              " 'real',\n",
              " 'real_if_close',\n",
              " 'rec',\n",
              " 'recarray',\n",
              " 'recfromcsv',\n",
              " 'recfromtxt',\n",
              " 'reciprocal',\n",
              " 'record',\n",
              " 'remainder',\n",
              " 'repeat',\n",
              " 'require',\n",
              " 'reshape',\n",
              " 'resize',\n",
              " 'result_type',\n",
              " 'right_shift',\n",
              " 'rint',\n",
              " 'roll',\n",
              " 'rollaxis',\n",
              " 'roots',\n",
              " 'rot90',\n",
              " 'round',\n",
              " 'round_',\n",
              " 'row_stack',\n",
              " 's_',\n",
              " 'safe_eval',\n",
              " 'save',\n",
              " 'savetxt',\n",
              " 'savez',\n",
              " 'savez_compressed',\n",
              " 'sctype2char',\n",
              " 'sctypeDict',\n",
              " 'sctypes',\n",
              " 'searchsorted',\n",
              " 'select',\n",
              " 'set_numeric_ops',\n",
              " 'set_printoptions',\n",
              " 'set_string_function',\n",
              " 'setbufsize',\n",
              " 'setdiff1d',\n",
              " 'seterr',\n",
              " 'seterrcall',\n",
              " 'seterrobj',\n",
              " 'setxor1d',\n",
              " 'shape',\n",
              " 'shares_memory',\n",
              " 'short',\n",
              " 'show_config',\n",
              " 'sign',\n",
              " 'signbit',\n",
              " 'signedinteger',\n",
              " 'sin',\n",
              " 'sinc',\n",
              " 'single',\n",
              " 'singlecomplex',\n",
              " 'sinh',\n",
              " 'size',\n",
              " 'sometrue',\n",
              " 'sort',\n",
              " 'sort_complex',\n",
              " 'source',\n",
              " 'spacing',\n",
              " 'split',\n",
              " 'sqrt',\n",
              " 'square',\n",
              " 'squeeze',\n",
              " 'stack',\n",
              " 'std',\n",
              " 'str0',\n",
              " 'str_',\n",
              " 'string_',\n",
              " 'subtract',\n",
              " 'sum',\n",
              " 'swapaxes',\n",
              " 'sys',\n",
              " 'take',\n",
              " 'take_along_axis',\n",
              " 'tan',\n",
              " 'tanh',\n",
              " 'tensordot',\n",
              " 'test',\n",
              " 'testing',\n",
              " 'tile',\n",
              " 'timedelta64',\n",
              " 'trace',\n",
              " 'tracemalloc_domain',\n",
              " 'transpose',\n",
              " 'trapz',\n",
              " 'tri',\n",
              " 'tril',\n",
              " 'tril_indices',\n",
              " 'tril_indices_from',\n",
              " 'trim_zeros',\n",
              " 'triu',\n",
              " 'triu_indices',\n",
              " 'triu_indices_from',\n",
              " 'true_divide',\n",
              " 'trunc',\n",
              " 'typecodes',\n",
              " 'typename',\n",
              " 'ubyte',\n",
              " 'ufunc',\n",
              " 'uint',\n",
              " 'uint0',\n",
              " 'uint16',\n",
              " 'uint32',\n",
              " 'uint64',\n",
              " 'uint8',\n",
              " 'uintc',\n",
              " 'uintp',\n",
              " 'ulonglong',\n",
              " 'unicode_',\n",
              " 'union1d',\n",
              " 'unique',\n",
              " 'unpackbits',\n",
              " 'unravel_index',\n",
              " 'unsignedinteger',\n",
              " 'unwrap',\n",
              " 'use_hugepage',\n",
              " 'ushort',\n",
              " 'vander',\n",
              " 'var',\n",
              " 'vdot',\n",
              " 'vectorize',\n",
              " 'version',\n",
              " 'void',\n",
              " 'void0',\n",
              " 'vsplit',\n",
              " 'vstack',\n",
              " 'warnings',\n",
              " 'where',\n",
              " 'who',\n",
              " 'zeros',\n",
              " 'zeros_like']"
            ]
          },
          "metadata": {},
          "execution_count": 1
        }
      ]
    },
    {
      "cell_type": "markdown",
      "source": [
        "# data type"
      ],
      "metadata": {
        "id": "H6OWHy9NMnrB"
      }
    },
    {
      "cell_type": "code",
      "source": [
        "from sys import getsizeof\n",
        "\n",
        "a = 1\n",
        "getsizeof(a) "
      ],
      "metadata": {
        "colab": {
          "base_uri": "https://localhost:8080/"
        },
        "id": "fUWCeTgSINnm",
        "outputId": "5eccf1b4-b093-4a19-cb1a-7376131f646d"
      },
      "execution_count": 2,
      "outputs": [
        {
          "output_type": "execute_result",
          "data": {
            "text/plain": [
              "28"
            ]
          },
          "metadata": {},
          "execution_count": 2
        }
      ]
    },
    {
      "cell_type": "code",
      "source": [
        "type(a)"
      ],
      "metadata": {
        "colab": {
          "base_uri": "https://localhost:8080/"
        },
        "id": "T_HgrbbJMwRE",
        "outputId": "d067cc57-91cd-4132-a724-c5b3294a0a80"
      },
      "execution_count": 3,
      "outputs": [
        {
          "output_type": "execute_result",
          "data": {
            "text/plain": [
              "int"
            ]
          },
          "metadata": {},
          "execution_count": 3
        }
      ]
    },
    {
      "cell_type": "code",
      "source": [
        "def f():\n",
        "  return 1\n",
        "\n",
        "type(f)"
      ],
      "metadata": {
        "colab": {
          "base_uri": "https://localhost:8080/"
        },
        "id": "5Cv7zdcjM2G6",
        "outputId": "c318c02a-4c30-4b68-9709-563dc67f8777"
      },
      "execution_count": 4,
      "outputs": [
        {
          "output_type": "execute_result",
          "data": {
            "text/plain": [
              "function"
            ]
          },
          "metadata": {},
          "execution_count": 4
        }
      ]
    },
    {
      "cell_type": "code",
      "source": [
        "f.__class__"
      ],
      "metadata": {
        "colab": {
          "base_uri": "https://localhost:8080/"
        },
        "id": "YPIh2fSlM99z",
        "outputId": "c27b19f1-d404-497e-c6fb-fd2d4cddb576"
      },
      "execution_count": 5,
      "outputs": [
        {
          "output_type": "execute_result",
          "data": {
            "text/plain": [
              "function"
            ]
          },
          "metadata": {},
          "execution_count": 5
        }
      ]
    },
    {
      "cell_type": "code",
      "source": [
        "class C(object):\n",
        "  pass\n",
        "\n",
        "c=C()\n",
        "type(c)"
      ],
      "metadata": {
        "colab": {
          "base_uri": "https://localhost:8080/"
        },
        "id": "vRgs17lvNCDw",
        "outputId": "4b0a4f6d-713c-458c-808e-9d4e95d2c50d"
      },
      "execution_count": 7,
      "outputs": [
        {
          "output_type": "execute_result",
          "data": {
            "text/plain": [
              "__main__.C"
            ]
          },
          "metadata": {},
          "execution_count": 7
        }
      ]
    },
    {
      "cell_type": "code",
      "source": [
        "today = \"2020-10-25\"\n",
        "birthday = \"2010-11-21\"\n",
        "today = today.split(\"-\")\n",
        "print(today)\n",
        "birthday = birthday.split(\"-\")\n",
        "today = list(map(int, today))\n",
        "birthday = list(map(int, birthday))\n",
        "print(today[0]-birthday[0])"
      ],
      "metadata": {
        "colab": {
          "base_uri": "https://localhost:8080/"
        },
        "id": "TzS0-4wQNQcw",
        "outputId": "bffb5932-b27d-4d6a-e48f-5c68a657a57b"
      },
      "execution_count": 19,
      "outputs": [
        {
          "output_type": "stream",
          "name": "stdout",
          "text": [
            "['2020', '10', '25']\n",
            "10\n"
          ]
        }
      ]
    },
    {
      "cell_type": "markdown",
      "source": [
        "## imutable, mutable"
      ],
      "metadata": {
        "id": "6Cyi0rfRRrKx"
      }
    },
    {
      "cell_type": "code",
      "source": [
        "x=1\n",
        "print(id(x))\n",
        "x=2\n",
        "print(id(x))"
      ],
      "metadata": {
        "colab": {
          "base_uri": "https://localhost:8080/"
        },
        "id": "hQxz-n6GNtAE",
        "outputId": "9728d117-fd2c-47ba-bb9e-aced59cec9f7"
      },
      "execution_count": 20,
      "outputs": [
        {
          "output_type": "stream",
          "name": "stdout",
          "text": [
            "11256064\n",
            "11256096\n"
          ]
        }
      ]
    },
    {
      "cell_type": "code",
      "source": [
        "x=[1]\n",
        "print(id(x))\n",
        "x[0]=2\n",
        "print(id(x))"
      ],
      "metadata": {
        "colab": {
          "base_uri": "https://localhost:8080/"
        },
        "id": "R8lBwm8zR55M",
        "outputId": "82a7213c-198c-4e0d-bf3e-872c6f74331d"
      },
      "execution_count": 21,
      "outputs": [
        {
          "output_type": "stream",
          "name": "stdout",
          "text": [
            "140423165252784\n",
            "140423165252784\n"
          ]
        }
      ]
    },
    {
      "cell_type": "code",
      "source": [
        "x=(1,)\n",
        "print(id(x))\n",
        "x=(2,)\n",
        "print(id(x))"
      ],
      "metadata": {
        "colab": {
          "base_uri": "https://localhost:8080/"
        },
        "id": "rNmMYF4HR_Ko",
        "outputId": "f9c0bdf6-7802-4f63-ca16-c69eb161b36c"
      },
      "execution_count": 22,
      "outputs": [
        {
          "output_type": "stream",
          "name": "stdout",
          "text": [
            "140423165794000\n",
            "140423165739664\n"
          ]
        }
      ]
    },
    {
      "cell_type": "code",
      "source": [
        ""
      ],
      "metadata": {
        "id": "GBAcMI0xSFYO"
      },
      "execution_count": null,
      "outputs": []
    },
    {
      "cell_type": "markdown",
      "source": [
        "# date packages"
      ],
      "metadata": {
        "id": "ujOhvgYzWi4Y"
      }
    },
    {
      "cell_type": "code",
      "source": [
        "import datetime as dt\n",
        "x = dt.datetime.now()\n",
        "print(x)"
      ],
      "metadata": {
        "colab": {
          "base_uri": "https://localhost:8080/"
        },
        "id": "MvxH8FOQWltF",
        "outputId": "272764b3-735d-4b50-ec6d-33be73d57007"
      },
      "execution_count": 23,
      "outputs": [
        {
          "output_type": "stream",
          "name": "stdout",
          "text": [
            "2022-05-15 01:36:19.102983\n"
          ]
        }
      ]
    },
    {
      "cell_type": "code",
      "source": [
        "type(x)"
      ],
      "metadata": {
        "colab": {
          "base_uri": "https://localhost:8080/"
        },
        "id": "qiY6_e2FW_L9",
        "outputId": "eb844536-5d9e-4644-b206-e6dfef476cea"
      },
      "execution_count": 24,
      "outputs": [
        {
          "output_type": "execute_result",
          "data": {
            "text/plain": [
              "datetime.datetime"
            ]
          },
          "metadata": {},
          "execution_count": 24
        }
      ]
    },
    {
      "cell_type": "code",
      "source": [
        "x.strftime(\"%a %d\")"
      ],
      "metadata": {
        "colab": {
          "base_uri": "https://localhost:8080/",
          "height": 35
        },
        "id": "5WBcfD6eXLK0",
        "outputId": "7f8acfe2-74c8-4845-adcc-4264858fbe6f"
      },
      "execution_count": 25,
      "outputs": [
        {
          "output_type": "execute_result",
          "data": {
            "text/plain": [
              "'Sun 15'"
            ],
            "application/vnd.google.colaboratory.intrinsic+json": {
              "type": "string"
            }
          },
          "metadata": {},
          "execution_count": 25
        }
      ]
    },
    {
      "cell_type": "code",
      "source": [
        "y = dt.datetime.strptime(\"2019-01-02 14:44\", \"%Y-%m-%d %H:%M\")\n",
        "y"
      ],
      "metadata": {
        "colab": {
          "base_uri": "https://localhost:8080/"
        },
        "id": "aW2oR0CyYEkq",
        "outputId": "ffad8bf7-e211-404a-e02b-013be4eeb7c9"
      },
      "execution_count": 26,
      "outputs": [
        {
          "output_type": "execute_result",
          "data": {
            "text/plain": [
              "datetime.datetime(2019, 1, 2, 14, 44)"
            ]
          },
          "metadata": {},
          "execution_count": 26
        }
      ]
    },
    {
      "cell_type": "code",
      "source": [
        "from dateutil.parser import parse\n",
        "parse('2016-02-05')"
      ],
      "metadata": {
        "colab": {
          "base_uri": "https://localhost:8080/"
        },
        "id": "gf-sgFTHYhd_",
        "outputId": "8f173b75-d991-4bef-9be4-987677c5eba3"
      },
      "execution_count": 27,
      "outputs": [
        {
          "output_type": "execute_result",
          "data": {
            "text/plain": [
              "datetime.datetime(2016, 2, 5, 0, 0)"
            ]
          },
          "metadata": {},
          "execution_count": 27
        }
      ]
    },
    {
      "cell_type": "code",
      "source": [
        "td=x-y\n",
        "type(td)"
      ],
      "metadata": {
        "colab": {
          "base_uri": "https://localhost:8080/"
        },
        "id": "VvmHHzdZYwuo",
        "outputId": "f0056c54-ce28-4d5d-ea63-4b07cc31d54c"
      },
      "execution_count": 28,
      "outputs": [
        {
          "output_type": "execute_result",
          "data": {
            "text/plain": [
              "datetime.timedelta"
            ]
          },
          "metadata": {},
          "execution_count": 28
        }
      ]
    },
    {
      "cell_type": "code",
      "source": [
        "td"
      ],
      "metadata": {
        "colab": {
          "base_uri": "https://localhost:8080/"
        },
        "id": "NjOVyXW-ZiHC",
        "outputId": "ecc94951-440d-4261-bc14-20f13342a8d0"
      },
      "execution_count": 29,
      "outputs": [
        {
          "output_type": "execute_result",
          "data": {
            "text/plain": [
              "datetime.timedelta(days=1228, seconds=39139, microseconds=102983)"
            ]
          },
          "metadata": {},
          "execution_count": 29
        }
      ]
    },
    {
      "cell_type": "code",
      "source": [
        "from dateutil.relativedelta import relativedelta\n",
        "td+relativedelta(month=2)\n"
      ],
      "metadata": {
        "colab": {
          "base_uri": "https://localhost:8080/"
        },
        "id": "N-2ixAYRZjWY",
        "outputId": "14ec4e02-bbc1-4671-e862-766bf488754c"
      },
      "execution_count": 30,
      "outputs": [
        {
          "output_type": "execute_result",
          "data": {
            "text/plain": [
              "relativedelta(days=+1228, hours=+10, minutes=+52, seconds=+19, microseconds=+102983, month=2)"
            ]
          },
          "metadata": {},
          "execution_count": 30
        }
      ]
    },
    {
      "cell_type": "code",
      "source": [
        "t1 = parse('2020-02-01')\n",
        "t2 = t1+relativedelta(months=1)\n"
      ],
      "metadata": {
        "id": "tdMR397fZ9hD"
      },
      "execution_count": 45,
      "outputs": []
    },
    {
      "cell_type": "code",
      "source": [
        "if (t2-t1).days==29:\n",
        "  print(\"윤년\")"
      ],
      "metadata": {
        "colab": {
          "base_uri": "https://localhost:8080/"
        },
        "id": "jvhXBD4RaeYd",
        "outputId": "241a9055-db8a-4427-cdc3-7bde69e928ca"
      },
      "execution_count": 47,
      "outputs": [
        {
          "output_type": "stream",
          "name": "stdout",
          "text": [
            "윤년\n"
          ]
        }
      ]
    },
    {
      "cell_type": "code",
      "source": [
        ""
      ],
      "metadata": {
        "id": "G0cLdRjgbUKl"
      },
      "execution_count": null,
      "outputs": []
    }
  ]
}