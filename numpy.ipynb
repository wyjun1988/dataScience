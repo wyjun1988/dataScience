{
  "nbformat": 4,
  "nbformat_minor": 0,
  "metadata": {
    "colab": {
      "name": "numpy.ipynb",
      "provenance": [],
      "authorship_tag": "ABX9TyPoWN9/w/GDrAMQ7Ad75nOu",
      "include_colab_link": true
    },
    "kernelspec": {
      "name": "python3",
      "display_name": "Python 3"
    },
    "language_info": {
      "name": "python"
    }
  },
  "cells": [
    {
      "cell_type": "markdown",
      "metadata": {
        "id": "view-in-github",
        "colab_type": "text"
      },
      "source": [
        "<a href=\"https://colab.research.google.com/github/wyjun1988/dataScience/blob/main/numpy.ipynb\" target=\"_parent\"><img src=\"https://colab.research.google.com/assets/colab-badge.svg\" alt=\"Open In Colab\"/></a>"
      ]
    },
    {
      "cell_type": "markdown",
      "source": [
        "# Numpy"
      ],
      "metadata": {
        "id": "ayYRzaotJPH2"
      }
    },
    {
      "cell_type": "code",
      "execution_count": 1,
      "metadata": {
        "id": "UAPJTgl3qoai"
      },
      "outputs": [],
      "source": [
        "import numpy as np"
      ]
    },
    {
      "cell_type": "code",
      "source": [
        "ar = np.array([0,1,2])"
      ],
      "metadata": {
        "id": "hZgJhXl8JTMN"
      },
      "execution_count": null,
      "outputs": []
    },
    {
      "cell_type": "code",
      "source": [
        "ar"
      ],
      "metadata": {
        "colab": {
          "base_uri": "https://localhost:8080/"
        },
        "id": "Rh5Fz8nEJYHY",
        "outputId": "7c16bf3b-3723-40e8-e9bf-f05b62f0f49a"
      },
      "execution_count": null,
      "outputs": [
        {
          "output_type": "execute_result",
          "data": {
            "text/plain": [
              "array([0, 1, 2])"
            ]
          },
          "metadata": {},
          "execution_count": 3
        }
      ]
    },
    {
      "cell_type": "code",
      "source": [
        "type(ar)"
      ],
      "metadata": {
        "colab": {
          "base_uri": "https://localhost:8080/"
        },
        "id": "3dM2FPheJY9-",
        "outputId": "c0da1c05-a54c-4792-d551-2cefc0e74451"
      },
      "execution_count": null,
      "outputs": [
        {
          "output_type": "execute_result",
          "data": {
            "text/plain": [
              "numpy.ndarray"
            ]
          },
          "metadata": {},
          "execution_count": 4
        }
      ]
    },
    {
      "cell_type": "code",
      "source": [
        "data = [0, 1, 2, 3]\n",
        "x= np.array(data)\n",
        "print(2*x)\n",
        "x = list(map(lambda x:2*x, data))\n",
        "print(x)"
      ],
      "metadata": {
        "colab": {
          "base_uri": "https://localhost:8080/"
        },
        "id": "7TIBwIoTJdIa",
        "outputId": "387e2895-aa9b-4d8f-f418-6bf9069b286d"
      },
      "execution_count": null,
      "outputs": [
        {
          "output_type": "stream",
          "name": "stdout",
          "text": [
            "[0 2 4 6]\n",
            "[0, 2, 4, 6]\n"
          ]
        }
      ]
    },
    {
      "cell_type": "markdown",
      "source": [
        "## 2D array"
      ],
      "metadata": {
        "id": "dcnyo9tQLT5J"
      }
    },
    {
      "cell_type": "code",
      "source": [
        "c = np.array([[0,1,2],[3,4,5]]) # 2x3 array\n",
        "len(c)\n",
        "len(c[0])"
      ],
      "metadata": {
        "colab": {
          "base_uri": "https://localhost:8080/"
        },
        "id": "rQbfOmJOKjTv",
        "outputId": "b261de00-5e1d-4b52-d44a-53f56aaf81fc"
      },
      "execution_count": null,
      "outputs": [
        {
          "output_type": "execute_result",
          "data": {
            "text/plain": [
              "3"
            ]
          },
          "metadata": {},
          "execution_count": 10
        }
      ]
    },
    {
      "cell_type": "markdown",
      "source": [
        "## 3D array\n"
      ],
      "metadata": {
        "id": "4TroYyXWLv8l"
      }
    },
    {
      "cell_type": "code",
      "source": [
        "d = np.array([[[1, 2, 3, 4],\n",
        "               [5, 6, 7, 8],\n",
        "               [9, 10, 11, 12]],\n",
        "              [[11, 12, 13, 14],\n",
        "               [15, 16, 17, 18],\n",
        "               [19, 20, 21, 22]]])   # 2 x 3 x 4 array"
      ],
      "metadata": {
        "id": "0Cg2x7EJLpET"
      },
      "execution_count": null,
      "outputs": []
    },
    {
      "cell_type": "code",
      "source": [
        "print(d)"
      ],
      "metadata": {
        "colab": {
          "base_uri": "https://localhost:8080/"
        },
        "id": "fPZvGxF9L3KD",
        "outputId": "7f8fdb53-221d-4d1d-c072-fad0acf98d9d"
      },
      "execution_count": null,
      "outputs": [
        {
          "output_type": "stream",
          "name": "stdout",
          "text": [
            "[[[ 1  2  3  4]\n",
            "  [ 5  6  7  8]\n",
            "  [ 9 10 11 12]]\n",
            "\n",
            " [[11 12 13 14]\n",
            "  [15 16 17 18]\n",
            "  [19 20 21 22]]]\n"
          ]
        }
      ]
    },
    {
      "cell_type": "code",
      "source": [
        "print(d.ndim)"
      ],
      "metadata": {
        "colab": {
          "base_uri": "https://localhost:8080/"
        },
        "id": "sUbS8N88L4KZ",
        "outputId": "7eea2d76-d717-42f4-9918-20cd9e67a5f4"
      },
      "execution_count": null,
      "outputs": [
        {
          "output_type": "stream",
          "name": "stdout",
          "text": [
            "3\n"
          ]
        }
      ]
    },
    {
      "cell_type": "code",
      "source": [
        "print(d.shape)"
      ],
      "metadata": {
        "colab": {
          "base_uri": "https://localhost:8080/"
        },
        "id": "1hvhHNjTOjF1",
        "outputId": "829b96b6-b84e-43ac-e488-46011d40f4da"
      },
      "execution_count": null,
      "outputs": [
        {
          "output_type": "stream",
          "name": "stdout",
          "text": [
            "(2, 3, 4)\n"
          ]
        }
      ]
    },
    {
      "cell_type": "code",
      "source": [
        "d[0,1,2]"
      ],
      "metadata": {
        "colab": {
          "base_uri": "https://localhost:8080/"
        },
        "id": "yT76ZHS5OkmE",
        "outputId": "54edef92-7543-47e3-c2d5-476470bece55"
      },
      "execution_count": null,
      "outputs": [
        {
          "output_type": "execute_result",
          "data": {
            "text/plain": [
              "7"
            ]
          },
          "metadata": {},
          "execution_count": 16
        }
      ]
    },
    {
      "cell_type": "code",
      "source": [
        "d[0,1,:]"
      ],
      "metadata": {
        "colab": {
          "base_uri": "https://localhost:8080/"
        },
        "id": "xJ_W5ifhOqpk",
        "outputId": "589f181c-4ce8-40fc-fad4-37c9e0f6a760"
      },
      "execution_count": null,
      "outputs": [
        {
          "output_type": "execute_result",
          "data": {
            "text/plain": [
              "array([5, 6, 7, 8])"
            ]
          },
          "metadata": {},
          "execution_count": 17
        }
      ]
    },
    {
      "cell_type": "code",
      "source": [
        "d[:,1,2]"
      ],
      "metadata": {
        "colab": {
          "base_uri": "https://localhost:8080/"
        },
        "id": "ZUW1HxWzO5Is",
        "outputId": "83618562-837f-4046-c683-6e71c834aed2"
      },
      "execution_count": null,
      "outputs": [
        {
          "output_type": "execute_result",
          "data": {
            "text/plain": [
              "array([ 7, 17])"
            ]
          },
          "metadata": {},
          "execution_count": 18
        }
      ]
    },
    {
      "cell_type": "code",
      "source": [
        "a = np.array([0, 1, 2, 3, 4, 5, 6, 7, 8, 9])\n",
        "idx = np.array([True, False, True, False, True,\n",
        "               False, True, False, True, False])\n",
        "a[idx]"
      ],
      "metadata": {
        "id": "pHqV9pOQO8Ss",
        "colab": {
          "base_uri": "https://localhost:8080/"
        },
        "outputId": "69b9035b-3fd5-4b3e-ba80-173feda98936"
      },
      "execution_count": 3,
      "outputs": [
        {
          "output_type": "execute_result",
          "data": {
            "text/plain": [
              "array([0, 2, 4, 6, 8])"
            ]
          },
          "metadata": {},
          "execution_count": 3
        }
      ]
    },
    {
      "cell_type": "code",
      "source": [
        "a[a%2==0]"
      ],
      "metadata": {
        "colab": {
          "base_uri": "https://localhost:8080/"
        },
        "id": "lak6mtgWq0Wr",
        "outputId": "a89da66f-8660-474b-b94e-cac2859ab4b5"
      },
      "execution_count": 4,
      "outputs": [
        {
          "output_type": "execute_result",
          "data": {
            "text/plain": [
              "array([0, 2, 4, 6, 8])"
            ]
          },
          "metadata": {},
          "execution_count": 4
        }
      ]
    },
    {
      "cell_type": "code",
      "source": [
        "a = np.array([[1, 2, 3, 4], [5, 6, 7, 8], [9, 10, 11, 12]])\n",
        "a"
      ],
      "metadata": {
        "colab": {
          "base_uri": "https://localhost:8080/"
        },
        "id": "I3VBYYdZrSPK",
        "outputId": "4db93930-5181-46a2-a5e2-a10ccd812412"
      },
      "execution_count": 5,
      "outputs": [
        {
          "output_type": "execute_result",
          "data": {
            "text/plain": [
              "array([[ 1,  2,  3,  4],\n",
              "       [ 5,  6,  7,  8],\n",
              "       [ 9, 10, 11, 12]])"
            ]
          },
          "metadata": {},
          "execution_count": 5
        }
      ]
    },
    {
      "cell_type": "code",
      "source": [
        "a[[2, 0, 1], :]"
      ],
      "metadata": {
        "colab": {
          "base_uri": "https://localhost:8080/"
        },
        "id": "qn69mhgerlFi",
        "outputId": "427f09f2-ea79-42e2-f2f9-82c288fffebc"
      },
      "execution_count": 6,
      "outputs": [
        {
          "output_type": "execute_result",
          "data": {
            "text/plain": [
              "array([[ 9, 10, 11, 12],\n",
              "       [ 1,  2,  3,  4],\n",
              "       [ 5,  6,  7,  8]])"
            ]
          },
          "metadata": {},
          "execution_count": 6
        }
      ]
    },
    {
      "cell_type": "code",
      "source": [
        "a = np.array([11, 22, 33, 44, 55, 66, 77, 88, 99])\n",
        "idx = np.array([0, 2, 4, 6, 8])\n",
        "a[idx]"
      ],
      "metadata": {
        "colab": {
          "base_uri": "https://localhost:8080/"
        },
        "id": "m29eNjhermwP",
        "outputId": "cf10501a-a2ea-49cf-8c8e-8647a5e0c17c"
      },
      "execution_count": 7,
      "outputs": [
        {
          "output_type": "execute_result",
          "data": {
            "text/plain": [
              "array([11, 33, 55, 77, 99])"
            ]
          },
          "metadata": {},
          "execution_count": 7
        }
      ]
    },
    {
      "cell_type": "code",
      "source": [
        "x = np.array([1,2,3])"
      ],
      "metadata": {
        "id": "afeUfFYirqdB"
      },
      "execution_count": 8,
      "outputs": []
    },
    {
      "cell_type": "markdown",
      "source": [
        "# data type"
      ],
      "metadata": {
        "id": "G4aA_w0GzETe"
      }
    },
    {
      "cell_type": "code",
      "source": [
        "x.dtype"
      ],
      "metadata": {
        "colab": {
          "base_uri": "https://localhost:8080/"
        },
        "id": "MA-S992Cw7cc",
        "outputId": "f3e2380d-fb21-40d8-b2f3-1787f753c204"
      },
      "execution_count": 9,
      "outputs": [
        {
          "output_type": "execute_result",
          "data": {
            "text/plain": [
              "dtype('int64')"
            ]
          },
          "metadata": {},
          "execution_count": 9
        }
      ]
    },
    {
      "cell_type": "code",
      "source": [
        "x = np.array([1, 2, 3], dtype='f')\n",
        "x.dtype"
      ],
      "metadata": {
        "colab": {
          "base_uri": "https://localhost:8080/"
        },
        "id": "lRjuVbAWw8mc",
        "outputId": "14bca7d5-a74a-4102-db07-e911798b3501"
      },
      "execution_count": 10,
      "outputs": [
        {
          "output_type": "execute_result",
          "data": {
            "text/plain": [
              "dtype('float32')"
            ]
          },
          "metadata": {},
          "execution_count": 10
        }
      ]
    },
    {
      "cell_type": "code",
      "source": [
        "x"
      ],
      "metadata": {
        "colab": {
          "base_uri": "https://localhost:8080/"
        },
        "id": "MmR135TkxRwU",
        "outputId": "e55ba144-b9bd-43ea-a5c4-216b1228260f"
      },
      "execution_count": 11,
      "outputs": [
        {
          "output_type": "execute_result",
          "data": {
            "text/plain": [
              "array([1., 2., 3.], dtype=float32)"
            ]
          },
          "metadata": {},
          "execution_count": 11
        }
      ]
    },
    {
      "cell_type": "code",
      "source": [
        "x = np.array([1,2,3], dtype='U')"
      ],
      "metadata": {
        "id": "En3reF6KxSrM"
      },
      "execution_count": 12,
      "outputs": []
    },
    {
      "cell_type": "code",
      "source": [
        "x[0]+x[1]"
      ],
      "metadata": {
        "colab": {
          "base_uri": "https://localhost:8080/",
          "height": 35
        },
        "id": "ZJUrU7PsxYic",
        "outputId": "3c654e8a-95f6-47e4-f0e1-b6dbc5f9942a"
      },
      "execution_count": 13,
      "outputs": [
        {
          "output_type": "execute_result",
          "data": {
            "text/plain": [
              "'12'"
            ],
            "application/vnd.google.colaboratory.intrinsic+json": {
              "type": "string"
            }
          },
          "metadata": {},
          "execution_count": 13
        }
      ]
    },
    {
      "cell_type": "markdown",
      "source": [
        "# 배열 생성"
      ],
      "metadata": {
        "id": "Zz2W40qyzIc2"
      }
    },
    {
      "cell_type": "code",
      "source": [
        "a = np.zeros((5,3), dtype='f')"
      ],
      "metadata": {
        "id": "47LhjOsazBa0"
      },
      "execution_count": 18,
      "outputs": []
    },
    {
      "cell_type": "code",
      "source": [
        "a"
      ],
      "metadata": {
        "colab": {
          "base_uri": "https://localhost:8080/"
        },
        "id": "0KPUivR7zPlD",
        "outputId": "f7d4cb34-1d06-4de2-9e96-11bcc9409e0f"
      },
      "execution_count": 19,
      "outputs": [
        {
          "output_type": "execute_result",
          "data": {
            "text/plain": [
              "array([[0., 0., 0.],\n",
              "       [0., 0., 0.],\n",
              "       [0., 0., 0.],\n",
              "       [0., 0., 0.],\n",
              "       [0., 0., 0.]], dtype=float32)"
            ]
          },
          "metadata": {},
          "execution_count": 19
        }
      ]
    },
    {
      "cell_type": "code",
      "source": [
        "f = np.ones_like(a, dtype='f')"
      ],
      "metadata": {
        "id": "W0KdfMEszWOK"
      },
      "execution_count": 20,
      "outputs": []
    },
    {
      "cell_type": "code",
      "source": [
        "f"
      ],
      "metadata": {
        "colab": {
          "base_uri": "https://localhost:8080/"
        },
        "id": "ttIQ4MENzyhK",
        "outputId": "9d69fe88-0dc9-4267-ec76-351a74b081cf"
      },
      "execution_count": 21,
      "outputs": [
        {
          "output_type": "execute_result",
          "data": {
            "text/plain": [
              "array([[1., 1., 1.],\n",
              "       [1., 1., 1.],\n",
              "       [1., 1., 1.],\n",
              "       [1., 1., 1.],\n",
              "       [1., 1., 1.]], dtype=float32)"
            ]
          },
          "metadata": {},
          "execution_count": 21
        }
      ]
    },
    {
      "cell_type": "code",
      "source": [
        "g = np.empty((4,3))"
      ],
      "metadata": {
        "id": "qpi--w_Vzy_K"
      },
      "execution_count": 22,
      "outputs": []
    },
    {
      "cell_type": "code",
      "source": [
        "g"
      ],
      "metadata": {
        "colab": {
          "base_uri": "https://localhost:8080/"
        },
        "id": "k1CkBV5Xz3MT",
        "outputId": "dea89fe6-a92c-4f67-8394-9f9498b4d740"
      },
      "execution_count": 23,
      "outputs": [
        {
          "output_type": "execute_result",
          "data": {
            "text/plain": [
              "array([[4.12328058e-316, 0.00000000e+000, 8.06809200e-321],\n",
              "       [4.12429519e-316, 6.93454253e-310, 6.93454253e-310],\n",
              "       [6.93454253e-310, 6.93454253e-310, 4.12327583e-316],\n",
              "       [4.94065646e-324, 2.12199579e-314, 4.44659081e-323]])"
            ]
          },
          "metadata": {},
          "execution_count": 23
        }
      ]
    },
    {
      "cell_type": "code",
      "source": [
        "g = np.empty(a.shape)"
      ],
      "metadata": {
        "id": "mbVgm268z34a"
      },
      "execution_count": 24,
      "outputs": []
    },
    {
      "cell_type": "code",
      "source": [
        "g"
      ],
      "metadata": {
        "colab": {
          "base_uri": "https://localhost:8080/"
        },
        "id": "VivRaCYa0IFg",
        "outputId": "e7727272-fa07-497b-e850-a3c6a01edc6c"
      },
      "execution_count": 25,
      "outputs": [
        {
          "output_type": "execute_result",
          "data": {
            "text/plain": [
              "array([[ 3.63393267e-316,  1.06099790e-312,  1.01855798e-312],\n",
              "       [ 9.54898106e-313,  1.14587773e-312,  1.01855798e-312],\n",
              "       [ 1.23075756e-312,  1.03977794e-312,  1.10343781e-312],\n",
              "       [ 9.76118064e-313,  1.14587773e-312,  1.10343781e-312],\n",
              "       [ 1.12465777e-312,  3.44981226e+175, -2.53481361e-170]])"
            ]
          },
          "metadata": {},
          "execution_count": 25
        }
      ]
    },
    {
      "cell_type": "code",
      "source": [
        "np.arange(10)"
      ],
      "metadata": {
        "colab": {
          "base_uri": "https://localhost:8080/"
        },
        "id": "QeopilJO0Ik6",
        "outputId": "97961076-951a-41fe-8e76-2fb023babdf7"
      },
      "execution_count": 27,
      "outputs": [
        {
          "output_type": "execute_result",
          "data": {
            "text/plain": [
              "array([0, 1, 2, 3, 4, 5, 6, 7, 8, 9])"
            ]
          },
          "metadata": {},
          "execution_count": 27
        }
      ]
    },
    {
      "cell_type": "code",
      "source": [
        "np.linspace(0,100,5)"
      ],
      "metadata": {
        "colab": {
          "base_uri": "https://localhost:8080/"
        },
        "id": "CWoR-Tx10QKK",
        "outputId": "a94883af-b644-48a8-925e-7b6061679cce"
      },
      "execution_count": 28,
      "outputs": [
        {
          "output_type": "execute_result",
          "data": {
            "text/plain": [
              "array([  0.,  25.,  50.,  75., 100.])"
            ]
          },
          "metadata": {},
          "execution_count": 28
        }
      ]
    },
    {
      "cell_type": "code",
      "source": [
        "np.logspace(0.1,1,10)"
      ],
      "metadata": {
        "colab": {
          "base_uri": "https://localhost:8080/"
        },
        "id": "4CGz4HSX0URq",
        "outputId": "66b97c60-cddd-469d-ecea-ab9126955389"
      },
      "execution_count": 29,
      "outputs": [
        {
          "output_type": "execute_result",
          "data": {
            "text/plain": [
              "array([ 1.25892541,  1.58489319,  1.99526231,  2.51188643,  3.16227766,\n",
              "        3.98107171,  5.01187234,  6.30957344,  7.94328235, 10.        ])"
            ]
          },
          "metadata": {},
          "execution_count": 29
        }
      ]
    },
    {
      "cell_type": "code",
      "source": [
        "g.T"
      ],
      "metadata": {
        "colab": {
          "base_uri": "https://localhost:8080/"
        },
        "id": "3IWlMDcj0fxJ",
        "outputId": "fcdb34df-fc97-472c-dc70-fcf231c25398"
      },
      "execution_count": 30,
      "outputs": [
        {
          "output_type": "execute_result",
          "data": {
            "text/plain": [
              "array([[ 3.63393267e-316,  9.54898106e-313,  1.23075756e-312,\n",
              "         9.76118064e-313,  1.12465777e-312],\n",
              "       [ 1.06099790e-312,  1.14587773e-312,  1.03977794e-312,\n",
              "         1.14587773e-312,  3.44981226e+175],\n",
              "       [ 1.01855798e-312,  1.01855798e-312,  1.10343781e-312,\n",
              "         1.10343781e-312, -2.53481361e-170]])"
            ]
          },
          "metadata": {},
          "execution_count": 30
        }
      ]
    },
    {
      "cell_type": "markdown",
      "source": [
        "# 배열의 크기 변경"
      ],
      "metadata": {
        "id": "aqrSAcnc0ohf"
      }
    },
    {
      "cell_type": "code",
      "source": [
        "g. reshape(3,5)\n",
        "g"
      ],
      "metadata": {
        "colab": {
          "base_uri": "https://localhost:8080/"
        },
        "id": "YOGDuHh30kMh",
        "outputId": "e2fa2a15-44d0-4180-d066-a3a577749000"
      },
      "execution_count": 31,
      "outputs": [
        {
          "output_type": "execute_result",
          "data": {
            "text/plain": [
              "array([[ 3.63393267e-316,  1.06099790e-312,  1.01855798e-312],\n",
              "       [ 9.54898106e-313,  1.14587773e-312,  1.01855798e-312],\n",
              "       [ 1.23075756e-312,  1.03977794e-312,  1.10343781e-312],\n",
              "       [ 9.76118064e-313,  1.14587773e-312,  1.10343781e-312],\n",
              "       [ 1.12465777e-312,  3.44981226e+175, -2.53481361e-170]])"
            ]
          },
          "metadata": {},
          "execution_count": 31
        }
      ]
    },
    {
      "cell_type": "code",
      "source": [
        "g.flatten()"
      ],
      "metadata": {
        "colab": {
          "base_uri": "https://localhost:8080/"
        },
        "id": "XMkR83Cf16pA",
        "outputId": "9d2baccb-1462-4937-ff41-c48e65dd0ec8"
      },
      "execution_count": 33,
      "outputs": [
        {
          "output_type": "execute_result",
          "data": {
            "text/plain": [
              "array([ 3.63393267e-316,  1.06099790e-312,  1.01855798e-312,\n",
              "        9.54898106e-313,  1.14587773e-312,  1.01855798e-312,\n",
              "        1.23075756e-312,  1.03977794e-312,  1.10343781e-312,\n",
              "        9.76118064e-313,  1.14587773e-312,  1.10343781e-312,\n",
              "        1.12465777e-312,  3.44981226e+175, -2.53481361e-170])"
            ]
          },
          "metadata": {},
          "execution_count": 33
        }
      ]
    },
    {
      "cell_type": "code",
      "source": [
        "x = np.arange(5)\n",
        "x"
      ],
      "metadata": {
        "colab": {
          "base_uri": "https://localhost:8080/"
        },
        "id": "ixXA7Mj32LBo",
        "outputId": "ff988c73-b337-4d73-f7f1-19d3766c536d"
      },
      "execution_count": 37,
      "outputs": [
        {
          "output_type": "execute_result",
          "data": {
            "text/plain": [
              "array([0, 1, 2, 3, 4])"
            ]
          },
          "metadata": {},
          "execution_count": 37
        }
      ]
    },
    {
      "cell_type": "code",
      "source": [
        "x[:,np.newaxis]"
      ],
      "metadata": {
        "colab": {
          "base_uri": "https://localhost:8080/"
        },
        "id": "Lzobbn4O20Sf",
        "outputId": "47798b70-5705-4a96-85bc-3e6b3fc7fc82"
      },
      "execution_count": 38,
      "outputs": [
        {
          "output_type": "execute_result",
          "data": {
            "text/plain": [
              "array([[0],\n",
              "       [1],\n",
              "       [2],\n",
              "       [3],\n",
              "       [4]])"
            ]
          },
          "metadata": {},
          "execution_count": 38
        }
      ]
    },
    {
      "cell_type": "markdown",
      "source": [
        "# concatenate"
      ],
      "metadata": {
        "id": "UeGP5Wxt29O1"
      }
    },
    {
      "cell_type": "code",
      "source": [
        "a1 = np.ones((2,3))"
      ],
      "metadata": {
        "id": "gA6TrXF824EQ"
      },
      "execution_count": 39,
      "outputs": []
    },
    {
      "cell_type": "code",
      "source": [
        "a1"
      ],
      "metadata": {
        "colab": {
          "base_uri": "https://localhost:8080/"
        },
        "id": "qGj-wAV_3SbH",
        "outputId": "63ca1283-459c-42ff-ad53-6d73080ddcf6"
      },
      "execution_count": 40,
      "outputs": [
        {
          "output_type": "execute_result",
          "data": {
            "text/plain": [
              "array([[1., 1., 1.],\n",
              "       [1., 1., 1.]])"
            ]
          },
          "metadata": {},
          "execution_count": 40
        }
      ]
    },
    {
      "cell_type": "code",
      "source": [
        "a2 = np.zeros((2,2))"
      ],
      "metadata": {
        "id": "Fe42KnWm3TcX"
      },
      "execution_count": 41,
      "outputs": []
    },
    {
      "cell_type": "code",
      "source": [
        "np.hstack([a1,a2])"
      ],
      "metadata": {
        "colab": {
          "base_uri": "https://localhost:8080/"
        },
        "id": "BsIVprE93XLm",
        "outputId": "362351df-ff58-46fa-ffe9-91690036cd34"
      },
      "execution_count": 43,
      "outputs": [
        {
          "output_type": "execute_result",
          "data": {
            "text/plain": [
              "array([[1., 1., 1., 0., 0.],\n",
              "       [1., 1., 1., 0., 0.]])"
            ]
          },
          "metadata": {},
          "execution_count": 43
        }
      ]
    },
    {
      "cell_type": "code",
      "source": [
        "a2 = np.zeros((1,3))\n",
        "np.vstack([a1,a2])"
      ],
      "metadata": {
        "colab": {
          "base_uri": "https://localhost:8080/"
        },
        "id": "euFK_Avh3Zxe",
        "outputId": "a3826cf2-6843-4d34-8c79-76e662eca2f3"
      },
      "execution_count": 44,
      "outputs": [
        {
          "output_type": "execute_result",
          "data": {
            "text/plain": [
              "array([[1., 1., 1.],\n",
              "       [1., 1., 1.],\n",
              "       [0., 0., 0.]])"
            ]
          },
          "metadata": {},
          "execution_count": 44
        }
      ]
    },
    {
      "cell_type": "code",
      "source": [
        "c1 = np.ones((3, 4))\n",
        "c1"
      ],
      "metadata": {
        "colab": {
          "base_uri": "https://localhost:8080/"
        },
        "id": "MDzBbSkG3jqx",
        "outputId": "72838e72-3952-42c1-9a4c-0e5283685de2"
      },
      "execution_count": 45,
      "outputs": [
        {
          "output_type": "execute_result",
          "data": {
            "text/plain": [
              "array([[1., 1., 1., 1.],\n",
              "       [1., 1., 1., 1.],\n",
              "       [1., 1., 1., 1.]])"
            ]
          },
          "metadata": {},
          "execution_count": 45
        }
      ]
    },
    {
      "cell_type": "code",
      "source": [
        "c2 = np.zeros((3, 4))\n",
        "c2"
      ],
      "metadata": {
        "colab": {
          "base_uri": "https://localhost:8080/"
        },
        "id": "1m8u7fbb40JL",
        "outputId": "cfd3f040-1497-4b4e-cba6-5e872b98852d"
      },
      "execution_count": 46,
      "outputs": [
        {
          "output_type": "execute_result",
          "data": {
            "text/plain": [
              "array([[0., 0., 0., 0.],\n",
              "       [0., 0., 0., 0.],\n",
              "       [0., 0., 0., 0.]])"
            ]
          },
          "metadata": {},
          "execution_count": 46
        }
      ]
    },
    {
      "cell_type": "code",
      "source": [
        "d = np.dstack([c1,c2])\n",
        "d\n",
        "d.shape"
      ],
      "metadata": {
        "colab": {
          "base_uri": "https://localhost:8080/"
        },
        "id": "nwMOCPnH40kW",
        "outputId": "a208e670-5643-4904-fa37-f84ae4477f51"
      },
      "execution_count": 50,
      "outputs": [
        {
          "output_type": "execute_result",
          "data": {
            "text/plain": [
              "(3, 4, 2)"
            ]
          },
          "metadata": {},
          "execution_count": 50
        }
      ]
    },
    {
      "cell_type": "code",
      "source": [
        "c = np.stack([c1, c2])\n",
        "c.shape"
      ],
      "metadata": {
        "colab": {
          "base_uri": "https://localhost:8080/"
        },
        "id": "CMYmY64C42n1",
        "outputId": "5c0f7376-43c6-4f44-f64b-539073f47881"
      },
      "execution_count": 51,
      "outputs": [
        {
          "output_type": "execute_result",
          "data": {
            "text/plain": [
              "(2, 3, 4)"
            ]
          },
          "metadata": {},
          "execution_count": 51
        }
      ]
    },
    {
      "cell_type": "code",
      "source": [
        "c = np.stack([c1, c2], axis=1)\n",
        "c.shape"
      ],
      "metadata": {
        "colab": {
          "base_uri": "https://localhost:8080/"
        },
        "id": "a6z3AXPB5DMN",
        "outputId": "36b8321d-d766-4c95-d3ac-d06fc0714c9a"
      },
      "execution_count": 52,
      "outputs": [
        {
          "output_type": "execute_result",
          "data": {
            "text/plain": [
              "(3, 2, 4)"
            ]
          },
          "metadata": {},
          "execution_count": 52
        }
      ]
    },
    {
      "cell_type": "code",
      "source": [
        "np.r_[np.array([1,2,3]), np.array([4,5,6])]"
      ],
      "metadata": {
        "colab": {
          "base_uri": "https://localhost:8080/"
        },
        "id": "iabuI0555W51",
        "outputId": "19bb061a-b995-4715-fbd2-330f6bf7b5f9"
      },
      "execution_count": 55,
      "outputs": [
        {
          "output_type": "execute_result",
          "data": {
            "text/plain": [
              "array([1, 2, 3, 4, 5, 6])"
            ]
          },
          "metadata": {},
          "execution_count": 55
        }
      ]
    },
    {
      "cell_type": "code",
      "source": [
        "a = np.array([[0, 1, 2], [3, 4, 5]])\n",
        "np.tile(a,(3,2))"
      ],
      "metadata": {
        "colab": {
          "base_uri": "https://localhost:8080/"
        },
        "id": "-_MIahzaQ08f",
        "outputId": "e8b5c034-43d7-4ebb-88b9-7730ab0c836f"
      },
      "execution_count": 56,
      "outputs": [
        {
          "output_type": "execute_result",
          "data": {
            "text/plain": [
              "array([[0, 1, 2, 0, 1, 2],\n",
              "       [3, 4, 5, 3, 4, 5],\n",
              "       [0, 1, 2, 0, 1, 2],\n",
              "       [3, 4, 5, 3, 4, 5],\n",
              "       [0, 1, 2, 0, 1, 2],\n",
              "       [3, 4, 5, 3, 4, 5]])"
            ]
          },
          "metadata": {},
          "execution_count": 56
        }
      ]
    },
    {
      "cell_type": "markdown",
      "source": [
        "# Grid point"
      ],
      "metadata": {
        "id": "3itkEjnhRJM4"
      }
    },
    {
      "cell_type": "code",
      "source": [
        "x = np.arange(3)\n",
        "y = np.arange(5)\n",
        "\n",
        "X, Y = np.meshgrid(x,y)\n",
        "print(X)\n",
        "print(Y)"
      ],
      "metadata": {
        "colab": {
          "base_uri": "https://localhost:8080/"
        },
        "id": "8cDbH9QSRDBv",
        "outputId": "9983d043-1e30-4dba-ddba-f2978e743a59"
      },
      "execution_count": 57,
      "outputs": [
        {
          "output_type": "stream",
          "name": "stdout",
          "text": [
            "[[0 1 2]\n",
            " [0 1 2]\n",
            " [0 1 2]\n",
            " [0 1 2]\n",
            " [0 1 2]]\n",
            "[[0 0 0]\n",
            " [1 1 1]\n",
            " [2 2 2]\n",
            " [3 3 3]\n",
            " [4 4 4]]\n"
          ]
        }
      ]
    },
    {
      "cell_type": "code",
      "source": [
        "[list(zip(x,y)) for x, y in zip(X, Y)]"
      ],
      "metadata": {
        "colab": {
          "base_uri": "https://localhost:8080/"
        },
        "id": "jBDpgV07WTWM",
        "outputId": "622eaec5-13b5-4bff-8e90-6ac884c574e8"
      },
      "execution_count": 59,
      "outputs": [
        {
          "output_type": "execute_result",
          "data": {
            "text/plain": [
              "[[(0, 0), (1, 0), (2, 0)],\n",
              " [(0, 1), (1, 1), (2, 1)],\n",
              " [(0, 2), (1, 2), (2, 2)],\n",
              " [(0, 3), (1, 3), (2, 3)],\n",
              " [(0, 4), (1, 4), (2, 4)]]"
            ]
          },
          "metadata": {},
          "execution_count": 59
        }
      ]
    },
    {
      "cell_type": "markdown",
      "source": [
        "# Vectorized operation"
      ],
      "metadata": {
        "id": "jcAO8RV4gg1J"
      }
    },
    {
      "cell_type": "code",
      "source": [
        "a = np.array([1,2,3,4])\n",
        "b = np.array([4,2,3,1])\n",
        "a == b"
      ],
      "metadata": {
        "colab": {
          "base_uri": "https://localhost:8080/"
        },
        "id": "g59dOtTWWh1h",
        "outputId": "c50521fe-b448-40c9-d2a6-0c64d353f382"
      },
      "execution_count": 60,
      "outputs": [
        {
          "output_type": "execute_result",
          "data": {
            "text/plain": [
              "array([False,  True,  True, False])"
            ]
          },
          "metadata": {},
          "execution_count": 60
        }
      ]
    },
    {
      "cell_type": "code",
      "source": [
        "a >= b"
      ],
      "metadata": {
        "colab": {
          "base_uri": "https://localhost:8080/"
        },
        "id": "xQuiFpfggsy4",
        "outputId": "3e1576b9-6538-4898-8eed-8a36188dd3bd"
      },
      "execution_count": 61,
      "outputs": [
        {
          "output_type": "execute_result",
          "data": {
            "text/plain": [
              "array([False,  True,  True,  True])"
            ]
          },
          "metadata": {},
          "execution_count": 61
        }
      ]
    },
    {
      "cell_type": "code",
      "source": [
        "c = np.array([1,2,3,4])\n",
        "np.all(a==b)"
      ],
      "metadata": {
        "colab": {
          "base_uri": "https://localhost:8080/"
        },
        "id": "AyDrnnocgumA",
        "outputId": "a1677b17-6d66-4d09-f4d9-159ce1a53c8f"
      },
      "execution_count": 62,
      "outputs": [
        {
          "output_type": "execute_result",
          "data": {
            "text/plain": [
              "False"
            ]
          },
          "metadata": {},
          "execution_count": 62
        }
      ]
    },
    {
      "cell_type": "code",
      "source": [
        "np.all(a==c)"
      ],
      "metadata": {
        "colab": {
          "base_uri": "https://localhost:8080/"
        },
        "id": "614jfKBFgz5o",
        "outputId": "bcb3be30-0ade-4864-ae14-9b6aed2d787c"
      },
      "execution_count": 63,
      "outputs": [
        {
          "output_type": "execute_result",
          "data": {
            "text/plain": [
              "True"
            ]
          },
          "metadata": {},
          "execution_count": 63
        }
      ]
    },
    {
      "cell_type": "code",
      "source": [
        "np.exp(a)"
      ],
      "metadata": {
        "colab": {
          "base_uri": "https://localhost:8080/"
        },
        "id": "d9esxjqfg0_f",
        "outputId": "fa1503c9-d708-4075-9423-31298bc87f4d"
      },
      "execution_count": 64,
      "outputs": [
        {
          "output_type": "execute_result",
          "data": {
            "text/plain": [
              "array([ 2.71828183,  7.3890561 , 20.08553692, 54.59815003])"
            ]
          },
          "metadata": {},
          "execution_count": 64
        }
      ]
    },
    {
      "cell_type": "code",
      "source": [
        ""
      ],
      "metadata": {
        "id": "ZTWreN7y-BKN"
      },
      "execution_count": null,
      "outputs": []
    },
    {
      "cell_type": "markdown",
      "source": [
        "## broadcasting"
      ],
      "metadata": {
        "id": "DdZdmsX3g7lL"
      }
    },
    {
      "cell_type": "code",
      "source": [
        "x = np.vstack([range(7)[i:i+3] for i in range(5)])"
      ],
      "metadata": {
        "id": "V0iHWwlOg3h3"
      },
      "execution_count": 10,
      "outputs": []
    },
    {
      "cell_type": "code",
      "source": [
        "x"
      ],
      "metadata": {
        "colab": {
          "base_uri": "https://localhost:8080/"
        },
        "id": "QCyVeRKQ9El2",
        "outputId": "9895fad0-1466-4c3d-e017-f21da141ba1f"
      },
      "execution_count": 11,
      "outputs": [
        {
          "output_type": "execute_result",
          "data": {
            "text/plain": [
              "array([[0, 1, 2],\n",
              "       [1, 2, 3],\n",
              "       [2, 3, 4],\n",
              "       [3, 4, 5],\n",
              "       [4, 5, 6]])"
            ]
          },
          "metadata": {},
          "execution_count": 11
        }
      ]
    },
    {
      "cell_type": "code",
      "source": [
        "[range(10)[i:i+3] for i in range(5)]"
      ],
      "metadata": {
        "colab": {
          "base_uri": "https://localhost:8080/"
        },
        "id": "-Mgpscov9FOt",
        "outputId": "ef2d94d8-621e-42d8-e6f6-82d5f78eca28"
      },
      "execution_count": 18,
      "outputs": [
        {
          "output_type": "execute_result",
          "data": {
            "text/plain": [
              "[range(0, 3), range(1, 4), range(2, 5), range(3, 6), range(4, 7)]"
            ]
          },
          "metadata": {},
          "execution_count": 18
        }
      ]
    },
    {
      "cell_type": "code",
      "source": [
        ""
      ],
      "metadata": {
        "id": "xGVIQK0H9I09"
      },
      "execution_count": null,
      "outputs": []
    }
  ]
}